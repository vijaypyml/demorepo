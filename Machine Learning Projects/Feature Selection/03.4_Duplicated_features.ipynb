{
 "cells": [
  {
   "cell_type": "markdown",
   "metadata": {},
   "source": [
    "## Duplicated features\n",
    "\n",
    "Often datasets contain one or more features that show the same values across all the observations. This means that both features are in essence identical. In addition, it is not unusual to introduce duplicated features after performing **one hot encoding** of categorical variables, particularly when using several highly cardinal variables.\n",
    "\n",
    "Identifying and removing duplicated, and therefore redundant features, is an easy first step towards feature selection and more easily interpretable machine learning models.\n",
    "\n",
    "Here I will demonstrate how to identify duplicated features using the Santander Customer Satisfaction dataset from Kaggle. \n",
    "\n",
    "There is no function in python and pandas to find duplicated columns. I will show 2 snippets of code, one that you can apply to small datasets, and a second snippet that you can use on larger datasets. The first piece of code, is computationally costly, so your computer might run out of memory.\n",
    "\n",
    "**Note**\n",
    "Finding duplicated features is a computationally costly operation in Python, therefore depending on the size of your dataset, you might not always be able to perform it."
   ]
  },
  {
   "cell_type": "code",
   "execution_count": 1,
   "metadata": {},
   "outputs": [],
   "source": [
    "import pandas as pd\n",
    "import numpy as np\n",
    "\n",
    "from sklearn.model_selection import train_test_split"
   ]
  },
  {
   "cell_type": "markdown",
   "metadata": {},
   "source": [
    "## Removing duplicate features"
   ]
  },
  {
   "cell_type": "code",
   "execution_count": 15,
   "metadata": {},
   "outputs": [
    {
     "data": {
      "text/plain": [
       "(200, 8)"
      ]
     },
     "execution_count": 15,
     "metadata": {},
     "output_type": "execute_result"
    }
   ],
   "source": [
    "# load the Santander customer satisfaction dataset from Kaggle\n",
    "# I load just a few rows for the demonstration\n",
    "data = pd.read_csv('Advertising.csv', nrows=15000)\n",
    "data.shape"
   ]
  },
  {
   "cell_type": "code",
   "execution_count": 16,
   "metadata": {
    "scrolled": true
   },
   "outputs": [
    {
     "data": {
      "text/plain": [
       "[]"
      ]
     },
     "execution_count": 16,
     "metadata": {},
     "output_type": "execute_result"
    }
   ],
   "source": [
    "# check the presence of null data.\n",
    "# The snippets below will be able to compare nan values between 2 columns,\n",
    "# so in principle missing data are not a problem.\n",
    "# in any case, we see that there are no missing data in this dataset\n",
    "\n",
    "[col for col in data.columns if data[col].isnull().sum() > 0]"
   ]
  },
  {
   "cell_type": "markdown",
   "metadata": {},
   "source": [
    "### Important\n",
    "\n",
    "In all feature selection procedures, it is good practice to select the features by examining only the training set. And this is to avoid overfit."
   ]
  },
  {
   "cell_type": "code",
   "execution_count": 17,
   "metadata": {},
   "outputs": [
    {
     "data": {
      "text/plain": [
       "((160, 7), (40, 7))"
      ]
     },
     "execution_count": 17,
     "metadata": {},
     "output_type": "execute_result"
    }
   ],
   "source": [
    "# separate train and test sets\n",
    "X_train, X_test, y_train, y_test = train_test_split(\n",
    "    data.drop(labels=['sales'], axis=1),\n",
    "    data['sales'],\n",
    "    test_size=0.2,\n",
    "    random_state=0)\n",
    "\n",
    "X_train.shape, X_test.shape"
   ]
  },
  {
   "cell_type": "markdown",
   "metadata": {},
   "source": [
    "Pandas has the function 'duplicated' that evaluates if the dataframe contains duplicated rows. We can use this function to check for duplicated columns if we transpose the dataframe first. By transposing the dataframe, we obtain a new dataframe where the columns are now rows, and with the 'duplicated' method we can go ahead an identify those that are duplicated. \n",
    "\n",
    "Once we identify them, we can remove the duplicated rows. See below.\n",
    "\n",
    "### Code Snippet for small datasets\n",
    "\n",
    "Using pandas transpose is computationally expensive, so the computer may run out of memory. That is why we can only use this code block on small datasets. How small will depend of your computer specifications."
   ]
  },
  {
   "cell_type": "code",
   "execution_count": 18,
   "metadata": {},
   "outputs": [
    {
     "data": {
      "text/html": [
       "<div>\n",
       "<style scoped>\n",
       "    .dataframe tbody tr th:only-of-type {\n",
       "        vertical-align: middle;\n",
       "    }\n",
       "\n",
       "    .dataframe tbody tr th {\n",
       "        vertical-align: top;\n",
       "    }\n",
       "\n",
       "    .dataframe thead th {\n",
       "        text-align: right;\n",
       "    }\n",
       "</style>\n",
       "<table border=\"1\" class=\"dataframe\">\n",
       "  <thead>\n",
       "    <tr style=\"text-align: right;\">\n",
       "      <th></th>\n",
       "      <th>134</th>\n",
       "      <th>66</th>\n",
       "      <th>26</th>\n",
       "      <th>113</th>\n",
       "      <th>168</th>\n",
       "      <th>63</th>\n",
       "      <th>8</th>\n",
       "      <th>75</th>\n",
       "      <th>118</th>\n",
       "      <th>143</th>\n",
       "      <th>...</th>\n",
       "      <th>87</th>\n",
       "      <th>36</th>\n",
       "      <th>21</th>\n",
       "      <th>9</th>\n",
       "      <th>103</th>\n",
       "      <th>67</th>\n",
       "      <th>192</th>\n",
       "      <th>117</th>\n",
       "      <th>47</th>\n",
       "      <th>172</th>\n",
       "    </tr>\n",
       "  </thead>\n",
       "  <tbody>\n",
       "    <tr>\n",
       "      <th>Unnamed: 0</th>\n",
       "      <td>135.0</td>\n",
       "      <td>67.0</td>\n",
       "      <td>27.0</td>\n",
       "      <td>114.0</td>\n",
       "      <td>169.0</td>\n",
       "      <td>64.0</td>\n",
       "      <td>9.0</td>\n",
       "      <td>76.0</td>\n",
       "      <td>119.0</td>\n",
       "      <td>144.0</td>\n",
       "      <td>...</td>\n",
       "      <td>88.0</td>\n",
       "      <td>37.0</td>\n",
       "      <td>22.0</td>\n",
       "      <td>10.0</td>\n",
       "      <td>104.0</td>\n",
       "      <td>68.0</td>\n",
       "      <td>193.0</td>\n",
       "      <td>118.0</td>\n",
       "      <td>48.0</td>\n",
       "      <td>173.0</td>\n",
       "    </tr>\n",
       "    <tr>\n",
       "      <th>TV</th>\n",
       "      <td>36.9</td>\n",
       "      <td>31.5</td>\n",
       "      <td>142.9</td>\n",
       "      <td>209.6</td>\n",
       "      <td>215.4</td>\n",
       "      <td>102.7</td>\n",
       "      <td>8.6</td>\n",
       "      <td>16.9</td>\n",
       "      <td>125.7</td>\n",
       "      <td>104.6</td>\n",
       "      <td>...</td>\n",
       "      <td>110.7</td>\n",
       "      <td>266.9</td>\n",
       "      <td>237.4</td>\n",
       "      <td>199.8</td>\n",
       "      <td>187.9</td>\n",
       "      <td>139.3</td>\n",
       "      <td>17.2</td>\n",
       "      <td>76.4</td>\n",
       "      <td>239.9</td>\n",
       "      <td>19.6</td>\n",
       "    </tr>\n",
       "    <tr>\n",
       "      <th>radio</th>\n",
       "      <td>38.6</td>\n",
       "      <td>24.6</td>\n",
       "      <td>29.3</td>\n",
       "      <td>20.6</td>\n",
       "      <td>23.6</td>\n",
       "      <td>29.6</td>\n",
       "      <td>2.1</td>\n",
       "      <td>43.7</td>\n",
       "      <td>36.9</td>\n",
       "      <td>5.7</td>\n",
       "      <td>...</td>\n",
       "      <td>40.6</td>\n",
       "      <td>43.8</td>\n",
       "      <td>5.1</td>\n",
       "      <td>2.6</td>\n",
       "      <td>17.2</td>\n",
       "      <td>14.5</td>\n",
       "      <td>4.1</td>\n",
       "      <td>0.8</td>\n",
       "      <td>41.5</td>\n",
       "      <td>20.1</td>\n",
       "    </tr>\n",
       "    <tr>\n",
       "      <th>radio1</th>\n",
       "      <td>38.6</td>\n",
       "      <td>24.6</td>\n",
       "      <td>29.3</td>\n",
       "      <td>20.6</td>\n",
       "      <td>23.6</td>\n",
       "      <td>29.6</td>\n",
       "      <td>2.1</td>\n",
       "      <td>43.7</td>\n",
       "      <td>36.9</td>\n",
       "      <td>5.7</td>\n",
       "      <td>...</td>\n",
       "      <td>40.6</td>\n",
       "      <td>43.8</td>\n",
       "      <td>5.1</td>\n",
       "      <td>2.6</td>\n",
       "      <td>17.2</td>\n",
       "      <td>14.5</td>\n",
       "      <td>4.1</td>\n",
       "      <td>0.8</td>\n",
       "      <td>41.5</td>\n",
       "      <td>20.1</td>\n",
       "    </tr>\n",
       "    <tr>\n",
       "      <th>Constant</th>\n",
       "      <td>1.0</td>\n",
       "      <td>1.0</td>\n",
       "      <td>1.0</td>\n",
       "      <td>1.0</td>\n",
       "      <td>1.0</td>\n",
       "      <td>1.0</td>\n",
       "      <td>1.0</td>\n",
       "      <td>1.0</td>\n",
       "      <td>1.0</td>\n",
       "      <td>1.0</td>\n",
       "      <td>...</td>\n",
       "      <td>1.0</td>\n",
       "      <td>1.0</td>\n",
       "      <td>1.0</td>\n",
       "      <td>1.0</td>\n",
       "      <td>1.0</td>\n",
       "      <td>1.0</td>\n",
       "      <td>1.0</td>\n",
       "      <td>1.0</td>\n",
       "      <td>1.0</td>\n",
       "      <td>1.0</td>\n",
       "    </tr>\n",
       "  </tbody>\n",
       "</table>\n",
       "<p>5 rows × 160 columns</p>\n",
       "</div>"
      ],
      "text/plain": [
       "              134   66     26     113    168    63   8     75     118    143  \\\n",
       "Unnamed: 0  135.0  67.0   27.0  114.0  169.0   64.0  9.0  76.0  119.0  144.0   \n",
       "TV           36.9  31.5  142.9  209.6  215.4  102.7  8.6  16.9  125.7  104.6   \n",
       "radio        38.6  24.6   29.3   20.6   23.6   29.6  2.1  43.7   36.9    5.7   \n",
       "radio1       38.6  24.6   29.3   20.6   23.6   29.6  2.1  43.7   36.9    5.7   \n",
       "Constant      1.0   1.0    1.0    1.0    1.0    1.0  1.0   1.0    1.0    1.0   \n",
       "\n",
       "            ...    87     36     21     9      103    67     192    117  \\\n",
       "Unnamed: 0  ...   88.0   37.0   22.0   10.0  104.0   68.0  193.0  118.0   \n",
       "TV          ...  110.7  266.9  237.4  199.8  187.9  139.3   17.2   76.4   \n",
       "radio       ...   40.6   43.8    5.1    2.6   17.2   14.5    4.1    0.8   \n",
       "radio1      ...   40.6   43.8    5.1    2.6   17.2   14.5    4.1    0.8   \n",
       "Constant    ...    1.0    1.0    1.0    1.0    1.0    1.0    1.0    1.0   \n",
       "\n",
       "              47     172  \n",
       "Unnamed: 0   48.0  173.0  \n",
       "TV          239.9   19.6  \n",
       "radio        41.5   20.1  \n",
       "radio1       41.5   20.1  \n",
       "Constant      1.0    1.0  \n",
       "\n",
       "[5 rows x 160 columns]"
      ]
     },
     "execution_count": 18,
     "metadata": {},
     "output_type": "execute_result"
    }
   ],
   "source": [
    "# transpose the dataframe, so that the columns are the rows of the new dataframe\n",
    "data_t = X_train.T\n",
    "data_t.head()"
   ]
  },
  {
   "cell_type": "code",
   "execution_count": 19,
   "metadata": {},
   "outputs": [
    {
     "data": {
      "text/plain": [
       "1"
      ]
     },
     "execution_count": 19,
     "metadata": {},
     "output_type": "execute_result"
    }
   ],
   "source": [
    "# check if there are duplicated rows (the columns of the original dataframe)\n",
    "# this is a computionally expensive operation, so it might take a while\n",
    "# sum indicates how many rows are duplicated\n",
    "\n",
    "data_t.duplicated().sum()"
   ]
  },
  {
   "cell_type": "markdown",
   "metadata": {},
   "source": [
    "We can see that 105 columns / variables are duplicated. This means that 105 variables are identical to at least another variable within a dataset."
   ]
  },
  {
   "cell_type": "code",
   "execution_count": 20,
   "metadata": {
    "scrolled": true
   },
   "outputs": [
    {
     "data": {
      "text/html": [
       "<div>\n",
       "<style scoped>\n",
       "    .dataframe tbody tr th:only-of-type {\n",
       "        vertical-align: middle;\n",
       "    }\n",
       "\n",
       "    .dataframe tbody tr th {\n",
       "        vertical-align: top;\n",
       "    }\n",
       "\n",
       "    .dataframe thead th {\n",
       "        text-align: right;\n",
       "    }\n",
       "</style>\n",
       "<table border=\"1\" class=\"dataframe\">\n",
       "  <thead>\n",
       "    <tr style=\"text-align: right;\">\n",
       "      <th></th>\n",
       "      <th>134</th>\n",
       "      <th>66</th>\n",
       "      <th>26</th>\n",
       "      <th>113</th>\n",
       "      <th>168</th>\n",
       "      <th>63</th>\n",
       "      <th>8</th>\n",
       "      <th>75</th>\n",
       "      <th>118</th>\n",
       "      <th>143</th>\n",
       "      <th>...</th>\n",
       "      <th>87</th>\n",
       "      <th>36</th>\n",
       "      <th>21</th>\n",
       "      <th>9</th>\n",
       "      <th>103</th>\n",
       "      <th>67</th>\n",
       "      <th>192</th>\n",
       "      <th>117</th>\n",
       "      <th>47</th>\n",
       "      <th>172</th>\n",
       "    </tr>\n",
       "  </thead>\n",
       "  <tbody>\n",
       "    <tr>\n",
       "      <th>radio1</th>\n",
       "      <td>38.6</td>\n",
       "      <td>24.6</td>\n",
       "      <td>29.3</td>\n",
       "      <td>20.6</td>\n",
       "      <td>23.6</td>\n",
       "      <td>29.6</td>\n",
       "      <td>2.1</td>\n",
       "      <td>43.7</td>\n",
       "      <td>36.9</td>\n",
       "      <td>5.7</td>\n",
       "      <td>...</td>\n",
       "      <td>40.6</td>\n",
       "      <td>43.8</td>\n",
       "      <td>5.1</td>\n",
       "      <td>2.6</td>\n",
       "      <td>17.2</td>\n",
       "      <td>14.5</td>\n",
       "      <td>4.1</td>\n",
       "      <td>0.8</td>\n",
       "      <td>41.5</td>\n",
       "      <td>20.1</td>\n",
       "    </tr>\n",
       "  </tbody>\n",
       "</table>\n",
       "<p>1 rows × 160 columns</p>\n",
       "</div>"
      ],
      "text/plain": [
       "         134   66    26    113   168   63   8     75    118  143  ...   87   \\\n",
       "radio1  38.6  24.6  29.3  20.6  23.6  29.6  2.1  43.7  36.9  5.7  ...  40.6   \n",
       "\n",
       "         36   21   9     103   67   192  117   47    172  \n",
       "radio1  43.8  5.1  2.6  17.2  14.5  4.1  0.8  41.5  20.1  \n",
       "\n",
       "[1 rows x 160 columns]"
      ]
     },
     "execution_count": 20,
     "metadata": {},
     "output_type": "execute_result"
    }
   ],
   "source": [
    "# visualise the duplicated rows (the columns of the original dataframe)\n",
    "data_t[data_t.duplicated()]"
   ]
  },
  {
   "cell_type": "code",
   "execution_count": 21,
   "metadata": {
    "scrolled": true
   },
   "outputs": [
    {
     "data": {
      "text/plain": [
       "array(['radio1'], dtype=object)"
      ]
     },
     "execution_count": 21,
     "metadata": {},
     "output_type": "execute_result"
    }
   ],
   "source": [
    "# we can capture the duplicated features, by capturing the\n",
    "# index values of the transposed dataframe like this:\n",
    "duplicated_features = data_t[data_t.duplicated()].index.values\n",
    "duplicated_features"
   ]
  },
  {
   "cell_type": "code",
   "execution_count": 22,
   "metadata": {},
   "outputs": [
    {
     "data": {
      "text/plain": [
       "(160, 6)"
      ]
     },
     "execution_count": 22,
     "metadata": {},
     "output_type": "execute_result"
    }
   ],
   "source": [
    "# alternatively, we can remove the duplicated rows,\n",
    "# transpose the dataframe back to the variables as columns\n",
    "# keep first indicates that we keep the first of a set of\n",
    "# duplicated variables\n",
    "\n",
    "data_unique = data_t.drop_duplicates(keep='first').T\n",
    "data_unique.shape"
   ]
  },
  {
   "cell_type": "markdown",
   "metadata": {},
   "source": [
    "We can see immediately how removing duplicated features helps reduce the feature space. We passed from 370 to 265 non-duplicated features."
   ]
  },
  {
   "cell_type": "code",
   "execution_count": 23,
   "metadata": {
    "scrolled": true
   },
   "outputs": [
    {
     "data": {
      "text/plain": [
       "['radio1', 'sales']"
      ]
     },
     "execution_count": 23,
     "metadata": {},
     "output_type": "execute_result"
    }
   ],
   "source": [
    "# to find those columns in the original dataframe that were removed:\n",
    "\n",
    "duplicated_features = [col for col in data.columns if col not in data_unique.columns]\n",
    "duplicated_features "
   ]
  },
  {
   "cell_type": "markdown",
   "metadata": {},
   "source": [
    "### Big datasets\n",
    "\n",
    "Transposing a dataframe is memory costly if the dataframe is big. Therefore, we can use the alternative loop to find duplicated columns in bigger datasets.\n",
    "\n",
    "In this case, I will use the same dataset, Santander from Kaggle, but I will load more rows. I expect to see less duplicated features, because by increasing the number of customers in the dataset, the probability of 2 customers having the same value across 2 or more features decreases. But this might as well not be the case. Let's have a look."
   ]
  },
  {
   "cell_type": "code",
   "execution_count": 26,
   "metadata": {},
   "outputs": [
    {
     "data": {
      "text/plain": [
       "((160, 7), (40, 7))"
      ]
     },
     "execution_count": 26,
     "metadata": {},
     "output_type": "execute_result"
    }
   ],
   "source": [
    "# load the dataset\n",
    "data = pd.read_csv('Advertising.csv', nrows=50000)\n",
    "\n",
    "# separate into train and test sets\n",
    "X_train, X_test, y_train, y_test = train_test_split(\n",
    "    data.drop(labels=['sales'], axis=1),\n",
    "    data['sales'],\n",
    "    test_size=0.2,\n",
    "    random_state=0)\n",
    "\n",
    "X_train.shape, X_test.shape"
   ]
  },
  {
   "cell_type": "code",
   "execution_count": 27,
   "metadata": {
    "scrolled": true
   },
   "outputs": [
    {
     "name": "stdout",
     "output_type": "stream",
     "text": [
      "0\n"
     ]
    }
   ],
   "source": [
    "# check for duplicated features in the training set\n",
    "duplicated_feat = []\n",
    "for i in range(0, len(X_train.columns)):\n",
    "    if i % 10 == 0:  # this helps me understand how the loop is going\n",
    "        print(i)\n",
    "\n",
    "    col_1 = X_train.columns[i]\n",
    "\n",
    "    for col_2 in X_train.columns[i + 1:]:\n",
    "        if X_train[col_1].equals(X_train[col_2]):\n",
    "            duplicated_feat.append(col_2)"
   ]
  },
  {
   "cell_type": "code",
   "execution_count": 28,
   "metadata": {},
   "outputs": [
    {
     "name": "stdout",
     "output_type": "stream",
     "text": [
      "1\n"
     ]
    }
   ],
   "source": [
    "# check how many features are duplicated\n",
    "print(len(set(duplicated_feat)))"
   ]
  },
  {
   "cell_type": "markdown",
   "metadata": {},
   "source": [
    "There are less duplicated features than when I loaded a smaller sample of the dataset. This behaviour is expected. Ideally you should work over the entire dataset."
   ]
  },
  {
   "cell_type": "code",
   "execution_count": 29,
   "metadata": {
    "scrolled": true
   },
   "outputs": [
    {
     "data": {
      "text/plain": [
       "{'radio1'}"
      ]
     },
     "execution_count": 29,
     "metadata": {},
     "output_type": "execute_result"
    }
   ],
   "source": [
    "# let's print the list of duplicated features\n",
    "set(duplicated_feat)"
   ]
  },
  {
   "cell_type": "code",
   "execution_count": 30,
   "metadata": {},
   "outputs": [
    {
     "name": "stdout",
     "output_type": "stream",
     "text": [
      "radio\n",
      "radio1\n",
      "\n"
     ]
    }
   ],
   "source": [
    "# we can go ahead and try to identify which set of features\n",
    "# are identical\n",
    "\n",
    "duplicated_feat = []\n",
    "for i in range(0, len(X_train.columns)):\n",
    "\n",
    "    col_1 = X_train.columns[i]\n",
    "\n",
    "    for col_2 in X_train.columns[i + 1:]:\n",
    "\n",
    "        # if the features are duplicated\n",
    "        if X_train[col_1].equals(X_train[col_2]):\n",
    "\n",
    "            #print them\n",
    "            print(col_1)\n",
    "            print(col_2)\n",
    "            print()\n",
    "\n",
    "            # and then append the duplicated one to a\n",
    "            # list\n",
    "            duplicated_feat.append(col_2)"
   ]
  },
  {
   "cell_type": "code",
   "execution_count": 33,
   "metadata": {},
   "outputs": [
    {
     "data": {
      "text/html": [
       "<div>\n",
       "<style scoped>\n",
       "    .dataframe tbody tr th:only-of-type {\n",
       "        vertical-align: middle;\n",
       "    }\n",
       "\n",
       "    .dataframe tbody tr th {\n",
       "        vertical-align: top;\n",
       "    }\n",
       "\n",
       "    .dataframe thead th {\n",
       "        text-align: right;\n",
       "    }\n",
       "</style>\n",
       "<table border=\"1\" class=\"dataframe\">\n",
       "  <thead>\n",
       "    <tr style=\"text-align: right;\">\n",
       "      <th></th>\n",
       "      <th>radio</th>\n",
       "      <th>radio1</th>\n",
       "    </tr>\n",
       "  </thead>\n",
       "  <tbody>\n",
       "    <tr>\n",
       "      <th>134</th>\n",
       "      <td>38.6</td>\n",
       "      <td>38.6</td>\n",
       "    </tr>\n",
       "    <tr>\n",
       "      <th>66</th>\n",
       "      <td>24.6</td>\n",
       "      <td>24.6</td>\n",
       "    </tr>\n",
       "    <tr>\n",
       "      <th>26</th>\n",
       "      <td>29.3</td>\n",
       "      <td>29.3</td>\n",
       "    </tr>\n",
       "    <tr>\n",
       "      <th>113</th>\n",
       "      <td>20.6</td>\n",
       "      <td>20.6</td>\n",
       "    </tr>\n",
       "    <tr>\n",
       "      <th>168</th>\n",
       "      <td>23.6</td>\n",
       "      <td>23.6</td>\n",
       "    </tr>\n",
       "    <tr>\n",
       "      <th>63</th>\n",
       "      <td>29.6</td>\n",
       "      <td>29.6</td>\n",
       "    </tr>\n",
       "    <tr>\n",
       "      <th>8</th>\n",
       "      <td>2.1</td>\n",
       "      <td>2.1</td>\n",
       "    </tr>\n",
       "    <tr>\n",
       "      <th>75</th>\n",
       "      <td>43.7</td>\n",
       "      <td>43.7</td>\n",
       "    </tr>\n",
       "    <tr>\n",
       "      <th>118</th>\n",
       "      <td>36.9</td>\n",
       "      <td>36.9</td>\n",
       "    </tr>\n",
       "    <tr>\n",
       "      <th>143</th>\n",
       "      <td>5.7</td>\n",
       "      <td>5.7</td>\n",
       "    </tr>\n",
       "  </tbody>\n",
       "</table>\n",
       "</div>"
      ],
      "text/plain": [
       "     radio  radio1\n",
       "134   38.6    38.6\n",
       "66    24.6    24.6\n",
       "26    29.3    29.3\n",
       "113   20.6    20.6\n",
       "168   23.6    23.6\n",
       "63    29.6    29.6\n",
       "8      2.1     2.1\n",
       "75    43.7    43.7\n",
       "118   36.9    36.9\n",
       "143    5.7     5.7"
      ]
     },
     "execution_count": 33,
     "metadata": {},
     "output_type": "execute_result"
    }
   ],
   "source": [
    "# let's check that indeed those features are duplicated\n",
    "# I select a random pair from above\n",
    "\n",
    "X_train[['radio', 'radio1']].head(10)"
   ]
  },
  {
   "cell_type": "code",
   "execution_count": 32,
   "metadata": {},
   "outputs": [
    {
     "data": {
      "text/html": [
       "<div>\n",
       "<style scoped>\n",
       "    .dataframe tbody tr th:only-of-type {\n",
       "        vertical-align: middle;\n",
       "    }\n",
       "\n",
       "    .dataframe tbody tr th {\n",
       "        vertical-align: top;\n",
       "    }\n",
       "\n",
       "    .dataframe thead th {\n",
       "        text-align: right;\n",
       "    }\n",
       "</style>\n",
       "<table border=\"1\" class=\"dataframe\">\n",
       "  <thead>\n",
       "    <tr style=\"text-align: right;\">\n",
       "      <th></th>\n",
       "      <th>radio</th>\n",
       "      <th>radio1</th>\n",
       "    </tr>\n",
       "  </thead>\n",
       "  <tbody>\n",
       "    <tr>\n",
       "      <th>134</th>\n",
       "      <td>38.6</td>\n",
       "      <td>38.6</td>\n",
       "    </tr>\n",
       "    <tr>\n",
       "      <th>66</th>\n",
       "      <td>24.6</td>\n",
       "      <td>24.6</td>\n",
       "    </tr>\n",
       "    <tr>\n",
       "      <th>26</th>\n",
       "      <td>29.3</td>\n",
       "      <td>29.3</td>\n",
       "    </tr>\n",
       "    <tr>\n",
       "      <th>113</th>\n",
       "      <td>20.6</td>\n",
       "      <td>20.6</td>\n",
       "    </tr>\n",
       "    <tr>\n",
       "      <th>168</th>\n",
       "      <td>23.6</td>\n",
       "      <td>23.6</td>\n",
       "    </tr>\n",
       "    <tr>\n",
       "      <th>63</th>\n",
       "      <td>29.6</td>\n",
       "      <td>29.6</td>\n",
       "    </tr>\n",
       "    <tr>\n",
       "      <th>8</th>\n",
       "      <td>2.1</td>\n",
       "      <td>2.1</td>\n",
       "    </tr>\n",
       "    <tr>\n",
       "      <th>75</th>\n",
       "      <td>43.7</td>\n",
       "      <td>43.7</td>\n",
       "    </tr>\n",
       "    <tr>\n",
       "      <th>118</th>\n",
       "      <td>36.9</td>\n",
       "      <td>36.9</td>\n",
       "    </tr>\n",
       "    <tr>\n",
       "      <th>143</th>\n",
       "      <td>5.7</td>\n",
       "      <td>5.7</td>\n",
       "    </tr>\n",
       "  </tbody>\n",
       "</table>\n",
       "</div>"
      ],
      "text/plain": [
       "     radio  radio1\n",
       "134   38.6    38.6\n",
       "66    24.6    24.6\n",
       "26    29.3    29.3\n",
       "113   20.6    20.6\n",
       "168   23.6    23.6\n",
       "63    29.6    29.6\n",
       "8      2.1     2.1\n",
       "75    43.7    43.7\n",
       "118   36.9    36.9\n",
       "143    5.7     5.7"
      ]
     },
     "execution_count": 32,
     "metadata": {},
     "output_type": "execute_result"
    }
   ],
   "source": [
    "# let's check that indeed those features are duplicated\n",
    "# I select another random pair from above\n",
    "\n",
    "X_train[['radio', 'radio1']].head(10)"
   ]
  },
  {
   "cell_type": "markdown",
   "metadata": {},
   "source": [
    "We can see, that the features are identical.\n",
    "\n",
    "That is all for this lecture, I hope you enjoyed it and see you in the next one!"
   ]
  }
 ],
 "metadata": {
  "kernelspec": {
   "display_name": "Python 3",
   "language": "python",
   "name": "python3"
  },
  "language_info": {
   "codemirror_mode": {
    "name": "ipython",
    "version": 3
   },
   "file_extension": ".py",
   "mimetype": "text/x-python",
   "name": "python",
   "nbconvert_exporter": "python",
   "pygments_lexer": "ipython3",
   "version": "3.8.3"
  },
  "toc": {
   "nav_menu": {},
   "number_sections": true,
   "sideBar": true,
   "skip_h1_title": false,
   "toc_cell": false,
   "toc_position": {},
   "toc_section_display": "block",
   "toc_window_display": true
  }
 },
 "nbformat": 4,
 "nbformat_minor": 2
}
