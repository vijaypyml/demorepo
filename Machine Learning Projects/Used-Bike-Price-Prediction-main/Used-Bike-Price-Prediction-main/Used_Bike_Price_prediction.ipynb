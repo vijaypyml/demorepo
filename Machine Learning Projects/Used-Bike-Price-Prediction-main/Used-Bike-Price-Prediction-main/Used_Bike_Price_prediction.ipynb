{
 "cells": [
  {
   "cell_type": "code",
   "execution_count": 90,
   "metadata": {},
   "outputs": [],
   "source": [
    "import pandas as pd\n",
    "import numpy as np"
   ]
  },
  {
   "cell_type": "code",
   "execution_count": 91,
   "metadata": {},
   "outputs": [
    {
     "data": {
      "text/html": [
       "<div>\n",
       "<style scoped>\n",
       "    .dataframe tbody tr th:only-of-type {\n",
       "        vertical-align: middle;\n",
       "    }\n",
       "\n",
       "    .dataframe tbody tr th {\n",
       "        vertical-align: top;\n",
       "    }\n",
       "\n",
       "    .dataframe thead th {\n",
       "        text-align: right;\n",
       "    }\n",
       "</style>\n",
       "<table border=\"1\" class=\"dataframe\">\n",
       "  <thead>\n",
       "    <tr style=\"text-align: right;\">\n",
       "      <th></th>\n",
       "      <th>Unnamed: 0</th>\n",
       "      <th>Name</th>\n",
       "      <th>Price</th>\n",
       "      <th>Location</th>\n",
       "      <th>Running</th>\n",
       "      <th>Owner</th>\n",
       "    </tr>\n",
       "  </thead>\n",
       "  <tbody>\n",
       "    <tr>\n",
       "      <th>0</th>\n",
       "      <td>0</td>\n",
       "      <td>TVS Star City Plus Dual Tone 110cc 2018</td>\n",
       "      <td>35,000</td>\n",
       "      <td>Ahmedabad</td>\n",
       "      <td>17,654 Km</td>\n",
       "      <td>First Owner</td>\n",
       "    </tr>\n",
       "    <tr>\n",
       "      <th>1</th>\n",
       "      <td>1</td>\n",
       "      <td>Royal Enfield Classic 350cc 2017</td>\n",
       "      <td>1,19,900</td>\n",
       "      <td>Delhi</td>\n",
       "      <td>11,000 Km</td>\n",
       "      <td>First Owner</td>\n",
       "    </tr>\n",
       "    <tr>\n",
       "      <th>2</th>\n",
       "      <td>2</td>\n",
       "      <td>Triumph Daytona 675R 2013</td>\n",
       "      <td>6,00,000</td>\n",
       "      <td>Delhi</td>\n",
       "      <td>110 Km</td>\n",
       "      <td>First Owner</td>\n",
       "    </tr>\n",
       "    <tr>\n",
       "      <th>3</th>\n",
       "      <td>3</td>\n",
       "      <td>TVS Apache RTR 180cc 2017</td>\n",
       "      <td>65,000</td>\n",
       "      <td>Bangalore</td>\n",
       "      <td>16,329 Km</td>\n",
       "      <td>First Owner</td>\n",
       "    </tr>\n",
       "    <tr>\n",
       "      <th>4</th>\n",
       "      <td>4</td>\n",
       "      <td>Yamaha FZ S V 2.0 150cc-Ltd. Edition 2018</td>\n",
       "      <td>80,000</td>\n",
       "      <td>Bangalore</td>\n",
       "      <td>10,000 Km</td>\n",
       "      <td>First Owner</td>\n",
       "    </tr>\n",
       "  </tbody>\n",
       "</table>\n",
       "</div>"
      ],
      "text/plain": [
       "   Unnamed: 0                                       Name     Price   Location  \\\n",
       "0           0    TVS Star City Plus Dual Tone 110cc 2018    35,000  Ahmedabad   \n",
       "1           1           Royal Enfield Classic 350cc 2017  1,19,900      Delhi   \n",
       "2           2                  Triumph Daytona 675R 2013  6,00,000      Delhi   \n",
       "3           3                  TVS Apache RTR 180cc 2017    65,000  Bangalore   \n",
       "4           4  Yamaha FZ S V 2.0 150cc-Ltd. Edition 2018    80,000  Bangalore   \n",
       "\n",
       "     Running        Owner  \n",
       "0  17,654 Km  First Owner  \n",
       "1  11,000 Km  First Owner  \n",
       "2     110 Km  First Owner  \n",
       "3  16,329 Km  First Owner  \n",
       "4  10,000 Km  First Owner  "
      ]
     },
     "execution_count": 91,
     "metadata": {},
     "output_type": "execute_result"
    }
   ],
   "source": [
    "df=pd.read_csv('bike_data.csv')\n",
    "df.head()"
   ]
  },
  {
   "cell_type": "code",
   "execution_count": 92,
   "metadata": {},
   "outputs": [],
   "source": [
    "df.drop('Unnamed: 0',axis=1,inplace=True)"
   ]
  },
  {
   "cell_type": "code",
   "execution_count": 93,
   "metadata": {},
   "outputs": [
    {
     "data": {
      "text/html": [
       "<div>\n",
       "<style scoped>\n",
       "    .dataframe tbody tr th:only-of-type {\n",
       "        vertical-align: middle;\n",
       "    }\n",
       "\n",
       "    .dataframe tbody tr th {\n",
       "        vertical-align: top;\n",
       "    }\n",
       "\n",
       "    .dataframe thead th {\n",
       "        text-align: right;\n",
       "    }\n",
       "</style>\n",
       "<table border=\"1\" class=\"dataframe\">\n",
       "  <thead>\n",
       "    <tr style=\"text-align: right;\">\n",
       "      <th></th>\n",
       "      <th>Name</th>\n",
       "      <th>Price</th>\n",
       "      <th>Location</th>\n",
       "      <th>Running</th>\n",
       "      <th>Owner</th>\n",
       "    </tr>\n",
       "  </thead>\n",
       "  <tbody>\n",
       "    <tr>\n",
       "      <th>0</th>\n",
       "      <td>TVS Star City Plus Dual Tone 110cc 2018</td>\n",
       "      <td>35,000</td>\n",
       "      <td>Ahmedabad</td>\n",
       "      <td>17,654 Km</td>\n",
       "      <td>First Owner</td>\n",
       "    </tr>\n",
       "    <tr>\n",
       "      <th>1</th>\n",
       "      <td>Royal Enfield Classic 350cc 2017</td>\n",
       "      <td>1,19,900</td>\n",
       "      <td>Delhi</td>\n",
       "      <td>11,000 Km</td>\n",
       "      <td>First Owner</td>\n",
       "    </tr>\n",
       "    <tr>\n",
       "      <th>2</th>\n",
       "      <td>Triumph Daytona 675R 2013</td>\n",
       "      <td>6,00,000</td>\n",
       "      <td>Delhi</td>\n",
       "      <td>110 Km</td>\n",
       "      <td>First Owner</td>\n",
       "    </tr>\n",
       "    <tr>\n",
       "      <th>3</th>\n",
       "      <td>TVS Apache RTR 180cc 2017</td>\n",
       "      <td>65,000</td>\n",
       "      <td>Bangalore</td>\n",
       "      <td>16,329 Km</td>\n",
       "      <td>First Owner</td>\n",
       "    </tr>\n",
       "    <tr>\n",
       "      <th>4</th>\n",
       "      <td>Yamaha FZ S V 2.0 150cc-Ltd. Edition 2018</td>\n",
       "      <td>80,000</td>\n",
       "      <td>Bangalore</td>\n",
       "      <td>10,000 Km</td>\n",
       "      <td>First Owner</td>\n",
       "    </tr>\n",
       "  </tbody>\n",
       "</table>\n",
       "</div>"
      ],
      "text/plain": [
       "                                        Name     Price   Location    Running  \\\n",
       "0    TVS Star City Plus Dual Tone 110cc 2018    35,000  Ahmedabad  17,654 Km   \n",
       "1           Royal Enfield Classic 350cc 2017  1,19,900      Delhi  11,000 Km   \n",
       "2                  Triumph Daytona 675R 2013  6,00,000      Delhi     110 Km   \n",
       "3                  TVS Apache RTR 180cc 2017    65,000  Bangalore  16,329 Km   \n",
       "4  Yamaha FZ S V 2.0 150cc-Ltd. Edition 2018    80,000  Bangalore  10,000 Km   \n",
       "\n",
       "         Owner  \n",
       "0  First Owner  \n",
       "1  First Owner  \n",
       "2  First Owner  \n",
       "3  First Owner  \n",
       "4  First Owner  "
      ]
     },
     "execution_count": 93,
     "metadata": {},
     "output_type": "execute_result"
    }
   ],
   "source": [
    "df.head()"
   ]
  },
  {
   "cell_type": "code",
   "execution_count": 94,
   "metadata": {},
   "outputs": [
    {
     "data": {
      "text/plain": [
       "(34500, 5)"
      ]
     },
     "execution_count": 94,
     "metadata": {},
     "output_type": "execute_result"
    }
   ],
   "source": [
    "df.shape"
   ]
  },
  {
   "cell_type": "code",
   "execution_count": 95,
   "metadata": {},
   "outputs": [
    {
     "data": {
      "text/html": [
       "<div>\n",
       "<style scoped>\n",
       "    .dataframe tbody tr th:only-of-type {\n",
       "        vertical-align: middle;\n",
       "    }\n",
       "\n",
       "    .dataframe tbody tr th {\n",
       "        vertical-align: top;\n",
       "    }\n",
       "\n",
       "    .dataframe thead th {\n",
       "        text-align: right;\n",
       "    }\n",
       "</style>\n",
       "<table border=\"1\" class=\"dataframe\">\n",
       "  <thead>\n",
       "    <tr style=\"text-align: right;\">\n",
       "      <th></th>\n",
       "      <th>Name</th>\n",
       "      <th>Price</th>\n",
       "      <th>Location</th>\n",
       "      <th>Running</th>\n",
       "      <th>Owner</th>\n",
       "    </tr>\n",
       "  </thead>\n",
       "  <tbody>\n",
       "    <tr>\n",
       "      <th>count</th>\n",
       "      <td>34500</td>\n",
       "      <td>34500</td>\n",
       "      <td>34492</td>\n",
       "      <td>34473</td>\n",
       "      <td>32974</td>\n",
       "    </tr>\n",
       "    <tr>\n",
       "      <th>unique</th>\n",
       "      <td>1572</td>\n",
       "      <td>1424</td>\n",
       "      <td>485</td>\n",
       "      <td>3850</td>\n",
       "      <td>4</td>\n",
       "    </tr>\n",
       "    <tr>\n",
       "      <th>top</th>\n",
       "      <td>Bajaj Avenger Street 220 2016</td>\n",
       "      <td>25,000</td>\n",
       "      <td>Delhi</td>\n",
       "      <td>20,000 Km</td>\n",
       "      <td>First Owner</td>\n",
       "    </tr>\n",
       "    <tr>\n",
       "      <th>freq</th>\n",
       "      <td>1896</td>\n",
       "      <td>2069</td>\n",
       "      <td>7438</td>\n",
       "      <td>1372</td>\n",
       "      <td>30262</td>\n",
       "    </tr>\n",
       "  </tbody>\n",
       "</table>\n",
       "</div>"
      ],
      "text/plain": [
       "                                 Name   Price Location    Running        Owner\n",
       "count                           34500   34500    34492      34473        32974\n",
       "unique                           1572    1424      485       3850            4\n",
       "top     Bajaj Avenger Street 220 2016  25,000    Delhi  20,000 Km  First Owner\n",
       "freq                             1896    2069     7438       1372        30262"
      ]
     },
     "execution_count": 95,
     "metadata": {},
     "output_type": "execute_result"
    }
   ],
   "source": [
    "df.describe()"
   ]
  },
  {
   "cell_type": "code",
   "execution_count": 96,
   "metadata": {},
   "outputs": [
    {
     "data": {
      "text/plain": [
       "Name        object\n",
       "Price       object\n",
       "Location    object\n",
       "Running     object\n",
       "Owner       object\n",
       "dtype: object"
      ]
     },
     "execution_count": 96,
     "metadata": {},
     "output_type": "execute_result"
    }
   ],
   "source": [
    "df.dtypes"
   ]
  },
  {
   "cell_type": "code",
   "execution_count": 97,
   "metadata": {},
   "outputs": [
    {
     "name": "stdout",
     "output_type": "stream",
     "text": [
      "<class 'pandas.core.frame.DataFrame'>\n",
      "RangeIndex: 34500 entries, 0 to 34499\n",
      "Data columns (total 5 columns):\n",
      " #   Column    Non-Null Count  Dtype \n",
      "---  ------    --------------  ----- \n",
      " 0   Name      34500 non-null  object\n",
      " 1   Price     34500 non-null  object\n",
      " 2   Location  34492 non-null  object\n",
      " 3   Running   34473 non-null  object\n",
      " 4   Owner     32974 non-null  object\n",
      "dtypes: object(5)\n",
      "memory usage: 1.3+ MB\n"
     ]
    }
   ],
   "source": [
    "df.info()"
   ]
  },
  {
   "cell_type": "code",
   "execution_count": 98,
   "metadata": {},
   "outputs": [
    {
     "data": {
      "text/plain": [
       "Name        False\n",
       "Price       False\n",
       "Location     True\n",
       "Running      True\n",
       "Owner        True\n",
       "dtype: bool"
      ]
     },
     "execution_count": 98,
     "metadata": {},
     "output_type": "execute_result"
    }
   ],
   "source": [
    "df.isnull().any()"
   ]
  },
  {
   "cell_type": "code",
   "execution_count": 99,
   "metadata": {},
   "outputs": [
    {
     "data": {
      "text/plain": [
       "Name           0\n",
       "Price          0\n",
       "Location       8\n",
       "Running       27\n",
       "Owner       1526\n",
       "dtype: int64"
      ]
     },
     "execution_count": 99,
     "metadata": {},
     "output_type": "execute_result"
    }
   ],
   "source": [
    "df.isnull().sum()"
   ]
  },
  {
   "cell_type": "code",
   "execution_count": 100,
   "metadata": {},
   "outputs": [],
   "source": [
    "#running and location have few null values so dropping them will not make big impact\n",
    "df=df[~df.Running.isnull()]\n",
    "df=df[~df.Location.isnull()]"
   ]
  },
  {
   "cell_type": "code",
   "execution_count": 101,
   "metadata": {},
   "outputs": [
    {
     "data": {
      "text/plain": [
       "Name           0\n",
       "Price          0\n",
       "Location       0\n",
       "Running        0\n",
       "Owner       1518\n",
       "dtype: int64"
      ]
     },
     "execution_count": 101,
     "metadata": {},
     "output_type": "execute_result"
    }
   ],
   "source": [
    "df.isnull().sum()"
   ]
  },
  {
   "cell_type": "code",
   "execution_count": 102,
   "metadata": {},
   "outputs": [
    {
     "data": {
      "text/plain": [
       "(34465, 5)"
      ]
     },
     "execution_count": 102,
     "metadata": {},
     "output_type": "execute_result"
    }
   ],
   "source": [
    "df.shape"
   ]
  },
  {
   "cell_type": "code",
   "execution_count": 103,
   "metadata": {},
   "outputs": [],
   "source": [
    "def run_clean(a):\n",
    "    b=str(a)\n",
    "    return b.split(' ')[0].replace(',','')\n",
    "df['Running']=df['Running'].apply(run_clean)\n",
    "df['Price']=df['Price'].apply(lambda x: x.replace(',',''))"
   ]
  },
  {
   "cell_type": "code",
   "execution_count": 104,
   "metadata": {},
   "outputs": [],
   "source": [
    "#converting price and running to numeric\n",
    "df['Price']=df['Price'].apply(lambda x: x.split(\"\\n\")[0])\n",
    "df['Price']=pd.to_numeric(df['Price'])\n",
    "df['Running']=pd.to_numeric(df['Running'])"
   ]
  },
  {
   "cell_type": "code",
   "execution_count": 105,
   "metadata": {},
   "outputs": [
    {
     "data": {
      "text/plain": [
       "Name        object\n",
       "Price        int64\n",
       "Location    object\n",
       "Running      int64\n",
       "Owner       object\n",
       "dtype: object"
      ]
     },
     "execution_count": 105,
     "metadata": {},
     "output_type": "execute_result"
    }
   ],
   "source": [
    "df.dtypes"
   ]
  },
  {
   "cell_type": "code",
   "execution_count": 106,
   "metadata": {},
   "outputs": [
    {
     "data": {
      "text/plain": [
       "Name        0\n",
       "Price       0\n",
       "Location    0\n",
       "Running     0\n",
       "Owner       0\n",
       "dtype: int64"
      ]
     },
     "execution_count": 106,
     "metadata": {},
     "output_type": "execute_result"
    }
   ],
   "source": [
    "#since owner is having many missing values, we cant drop all the rows with null values\n",
    "#we are filling the null values with 'First Owner' since the frequency of 'First Owner' is high\n",
    "df['Owner']=df['Owner'].fillna('First Owner')\n",
    "df.isnull().sum()"
   ]
  },
  {
   "cell_type": "code",
   "execution_count": 107,
   "metadata": {},
   "outputs": [],
   "source": [
    "#name feature have the cc and manufactured year, we need to extract them\n",
    "df['cc']=df.Name.str.extract(r'(\\d\\d\\d)',expand=False)\n",
    "df['Year']=df.Name.str.extract(r'(\\d\\d\\d\\d)',expand=False)"
   ]
  },
  {
   "cell_type": "code",
   "execution_count": 108,
   "metadata": {},
   "outputs": [],
   "source": [
    "df['cc']=pd.to_numeric(df['cc'])\n",
    "df['Year']=pd.to_numeric(df['Year'])"
   ]
  },
  {
   "cell_type": "code",
   "execution_count": 109,
   "metadata": {},
   "outputs": [
    {
     "name": "stdout",
     "output_type": "stream",
     "text": [
      "<class 'pandas.core.frame.DataFrame'>\n",
      "Int64Index: 34465 entries, 0 to 34499\n",
      "Data columns (total 7 columns):\n",
      " #   Column    Non-Null Count  Dtype \n",
      "---  ------    --------------  ----- \n",
      " 0   Name      34465 non-null  object\n",
      " 1   Price     34465 non-null  int64 \n",
      " 2   Location  34465 non-null  object\n",
      " 3   Running   34465 non-null  int64 \n",
      " 4   Owner     34465 non-null  object\n",
      " 5   cc        34465 non-null  int64 \n",
      " 6   Year      34465 non-null  int64 \n",
      "dtypes: int64(4), object(3)\n",
      "memory usage: 2.1+ MB\n"
     ]
    }
   ],
   "source": [
    "df.info()"
   ]
  },
  {
   "cell_type": "code",
   "execution_count": 110,
   "metadata": {},
   "outputs": [
    {
     "data": {
      "text/plain": [
       "array([110, 350, 675, 180, 150, 160, 100, 500, 250, 200, 125, 302, 201,\n",
       "       220, 390, 600, 900, 650, 223, 410, 135, 765, 300, 129, 750, 400,\n",
       "       130, 821, 119, 883, 959, 295, 320, 310, 899, 535, 113, 120, 105,\n",
       "       800, 126, 170, 175, 797, 796, 149, 202, 109, 502, 107], dtype=int64)"
      ]
     },
     "execution_count": 110,
     "metadata": {},
     "output_type": "execute_result"
    }
   ],
   "source": [
    "df.cc.unique()"
   ]
  },
  {
   "cell_type": "code",
   "execution_count": 111,
   "metadata": {},
   "outputs": [
    {
     "data": {
      "text/plain": [
       "array([2018, 2017, 2013, 2015, 2014, 2016, 1100, 2019, 2005, 2008, 2012,\n",
       "       2011, 2007, 2009, 2010, 2020, 1299, 1300, 2006, 1198, 1982, 1800,\n",
       "       1130, 1000, 1200, 1050, 2004, 2003, 1991, 2002, 1262, 1998, 1700,\n",
       "       1980, 1994, 1984, 1997, 2001, 2000, 1978, 1600, 1983, 1958, 1090,\n",
       "       1943, 1987, 1990, 1999, 1995, 1996], dtype=int64)"
      ]
     },
     "execution_count": 111,
     "metadata": {},
     "output_type": "execute_result"
    }
   ],
   "source": [
    "df.Year.unique()"
   ]
  },
  {
   "cell_type": "code",
   "execution_count": 112,
   "metadata": {},
   "outputs": [],
   "source": [
    "#we are extracting the model from Name\n",
    "new = df[\"Name\"].str.split(\" \", n = 4, expand = True) \n",
    "df[\"model\"]= new[0]+' '+new[1]\n"
   ]
  },
  {
   "cell_type": "code",
   "execution_count": 113,
   "metadata": {},
   "outputs": [
    {
     "name": "stdout",
     "output_type": "stream",
     "text": [
      "164\n"
     ]
    },
    {
     "data": {
      "text/plain": [
       "{'Bajaj Avenger': 4857,\n",
       " 'Bajaj Pulsar': 4222,\n",
       " 'Royal Enfield': 4220,\n",
       " 'Hero Passion': 2867,\n",
       " 'Honda CB': 1765,\n",
       " 'Yamaha Fazer': 1299,\n",
       " 'TVS Apache': 1083,\n",
       " 'Yamaha YZF-R15': 924,\n",
       " 'KTM RC': 839,\n",
       " 'Yamaha FZ': 763,\n",
       " 'Bajaj Platina': 739,\n",
       " 'Bajaj Dominar': 729,\n",
       " 'Harley-Davidson Street': 724,\n",
       " 'Hero CD': 708,\n",
       " 'Hero CBZ': 705,\n",
       " 'Hero Hunk': 660,\n",
       " 'Hero Super': 655,\n",
       " 'Hyosung GT250R': 646,\n",
       " 'TVS Victor': 622,\n",
       " 'Suzuki Slingshot': 617,\n",
       " 'Yamaha SZ-RR': 613,\n",
       " 'Suzuki Zeus': 608,\n",
       " 'Hero Splendor': 430,\n",
       " 'Bajaj Discover': 397,\n",
       " 'KTM Duke': 261,\n",
       " 'Suzuki Gixxer': 176,\n",
       " 'Bajaj V15': 161,\n",
       " 'Honda CBR': 151,\n",
       " 'Hero HF': 137,\n",
       " 'Yamaha FZs': 131,\n",
       " 'UM Renegade': 128,\n",
       " 'Bajaj CT': 107,\n",
       " 'TVS Star': 102,\n",
       " 'Hero Karizma': 99,\n",
       " 'Honda CBF': 79,\n",
       " 'Honda Dream': 68,\n",
       " 'TVS Sport': 68,\n",
       " 'Hero Glamour': 56,\n",
       " 'Yamaha FZ16': 53,\n",
       " 'Benelli TNT': 50,\n",
       " 'Kawasaki Ninja': 48,\n",
       " 'Yamaha FZ25': 46,\n",
       " 'Honda Livo': 45,\n",
       " 'Suzuki Intruder': 42,\n",
       " 'Hero Ignitor': 40,\n",
       " 'Hero Xtreme': 35,\n",
       " 'Yamaha SZR': 35,\n",
       " 'Mahindra Centuro': 32,\n",
       " 'Royal Enfield\\u200e': 29,\n",
       " 'Harley-Davidson Iron': 29,\n",
       " 'Bajaj ': 26,\n",
       " 'Hero Honda': 25,\n",
       " 'Mahindra Mojo': 24,\n",
       " 'Bajaj V12': 21,\n",
       " 'Hyosung Aquila': 20,\n",
       " 'Honda CD': 18,\n",
       " 'Yamaha FZS': 15,\n",
       " 'Harley-Davidson Fat': 15,\n",
       " 'Hyosung GT650R': 14,\n",
       " 'Triumph Street': 13,\n",
       " 'BMW G': 12,\n",
       " 'Yamaha Saluto': 11,\n",
       " 'Suzuki GS': 10,\n",
       " 'Yamaha Gladiator': 10,\n",
       " 'Hero Achiever': 10,\n",
       " 'Yamaha YZF-R3': 10,\n",
       " 'Bajaj XCD': 9,\n",
       " 'Ducati Monster': 9,\n",
       " 'Honda X-Blade': 9,\n",
       " 'Suzuki Hayabusa': 9,\n",
       " 'Yamaha SZ': 9,\n",
       " 'Ducati SuperSport': 8,\n",
       " 'Bajaj Boxer': 8,\n",
       " 'Triumph Tiger': 7,\n",
       " 'Yamaha YZF-R1': 7,\n",
       " 'Harley-Davidson Superlow': 7,\n",
       " 'Benelli 302R': 7,\n",
       " 'Jawa Forty': 7,\n",
       " 'Kawasaki Z800': 6,\n",
       " 'Kawasaki ER-6n': 6,\n",
       " 'Kawasaki Z650': 6,\n",
       " 'Yamaha SS': 6,\n",
       " 'Yamaha RX135': 5,\n",
       " 'TVS Flame': 5,\n",
       " 'Kawasaki Z900': 5,\n",
       " 'Harley-Davidson 1200': 5,\n",
       " 'MV Agusta': 5,\n",
       " 'Hyosung GT': 5,\n",
       " 'Ducati Panigale': 5,\n",
       " 'Kawasaki Versys': 5,\n",
       " 'Ducati Diavel': 4,\n",
       " 'Yamaha MT-15': 4,\n",
       " 'Harley-Davidson Breakout': 4,\n",
       " 'Jawa Standard': 4,\n",
       " 'Yamaha YZFR15': 4,\n",
       " 'Triumph Bonneville': 4,\n",
       " 'Harley-Davidson Roadster': 4,\n",
       " 'Kawasaki Z250': 4,\n",
       " 'Harley-Davidson Forty': 4,\n",
       " 'TVS Radeon': 4,\n",
       " 'Suzuki Hayate': 4,\n",
       " 'Yamaha Fazer25': 4,\n",
       " 'Yamaha Crux': 3,\n",
       " 'Harley-Davidson Sportster': 3,\n",
       " 'Triumph Thruxton': 3,\n",
       " 'TVS Phoenix': 3,\n",
       " 'Hyosung ST7': 3,\n",
       " 'Triumph Thunderbird': 3,\n",
       " 'Yamaha YZF-R1M': 3,\n",
       " 'TVS Jive': 3,\n",
       " 'BMW F750': 2,\n",
       " 'TVS New': 2,\n",
       " 'Ducati Multistrada': 2,\n",
       " 'Ideal Jawa': 2,\n",
       " 'Bajaj Discover150': 2,\n",
       " 'Bajaj Caliber': 2,\n",
       " 'Harley-Davidson CVO': 2,\n",
       " 'Triumph Daytona': 2,\n",
       " 'Benelli TRK': 2,\n",
       " 'Yamaha SZX': 2,\n",
       " 'Honda CBR650R': 2,\n",
       " 'Suzuki V-Strom': 2,\n",
       " 'Ducati XDiavel': 2,\n",
       " 'Indian Scout': 2,\n",
       " 'Yamaha Libero': 2,\n",
       " 'Yamaha YBR': 2,\n",
       " 'Harley-Davidson Super': 2,\n",
       " 'TVS Suzuki': 2,\n",
       " 'Ducati Scrambler': 2,\n",
       " 'BMW S': 2,\n",
       " 'Honda CBR1000RR': 2,\n",
       " 'Triumph Speed': 2,\n",
       " 'Hero Xpulse': 2,\n",
       " 'Hero Ambition': 2,\n",
       " 'Aprilia Tuono': 2,\n",
       " 'TVS Sports': 1,\n",
       " 'Hero Splendor+': 1,\n",
       " 'Mahindra Pantero': 1,\n",
       " 'Rajdoot GTX': 1,\n",
       " 'Bajaj CT110': 1,\n",
       " 'Suzuki GSX-R': 1,\n",
       " 'Yezdi Classic': 1,\n",
       " 'Bajaj Discover150S': 1,\n",
       " 'TVS MAX': 1,\n",
       " 'Yamaha RX-Z': 1,\n",
       " 'Ducati 1299': 1,\n",
       " 'LML Freedom': 1,\n",
       " 'Ducati 1198': 1,\n",
       " 'Honda SP125': 1,\n",
       " 'Yamaha SZS': 1,\n",
       " 'Kawasaki Z1000': 1,\n",
       " 'Indian Chief': 1,\n",
       " 'Hero i': 1,\n",
       " 'Yamaha YZF': 1,\n",
       " 'BMW K': 1,\n",
       " ' Bajaj': 1,\n",
       " 'Suzuki Heat': 1,\n",
       " 'TVS Fiero': 1,\n",
       " 'Suzuki GSX-S750': 1,\n",
       " 'Kawasaki Vulcan': 1,\n",
       " 'Hero New': 1,\n",
       " 'BSA M20': 1,\n",
       " 'Harley-Davidson Road': 1,\n",
       " 'Harley-Davidson XG750': 1}"
      ]
     },
     "execution_count": 113,
     "metadata": {},
     "output_type": "execute_result"
    }
   ],
   "source": [
    "print(len(df['model'].value_counts()))\n",
    "model_dict=dict(df.model.value_counts())\n",
    "model_dict"
   ]
  },
  {
   "cell_type": "code",
   "execution_count": 114,
   "metadata": {},
   "outputs": [],
   "source": [
    "#multiple models having value count below 10 have same count so we are omitting them\n",
    "#we are removing them inorder to do the count/frequency encoding\n",
    "counts=df.model.value_counts()\n",
    "df=df.loc[df['model'].isin(counts.index[counts>10])]"
   ]
  },
  {
   "cell_type": "code",
   "execution_count": 115,
   "metadata": {},
   "outputs": [],
   "source": [
    "df=df.reset_index().drop('index',axis=1)"
   ]
  },
  {
   "cell_type": "code",
   "execution_count": 116,
   "metadata": {},
   "outputs": [
    {
     "data": {
      "text/plain": [
       "(34114, 8)"
      ]
     },
     "execution_count": 116,
     "metadata": {},
     "output_type": "execute_result"
    }
   ],
   "source": [
    "df.shape"
   ]
  },
  {
   "cell_type": "code",
   "execution_count": 117,
   "metadata": {},
   "outputs": [
    {
     "data": {
      "text/plain": [
       "(34118, 8)"
      ]
     },
     "execution_count": 117,
     "metadata": {},
     "output_type": "execute_result"
    }
   ],
   "source": [
    "#In our new dataframe some models value counts are same so we are duplicating one record from each model\n",
    "#from data we can see below three models have same count as some models\n",
    "#df[df.model=='TVS Sport']\n",
    "#df[df.model=='Hero Xtreme']\n",
    "#df[df.model=='Harley-Davidson Iron']\n",
    "#df[df.model=='Yamaha FZS']\n",
    "df=df.append(df.iloc[8020],ignore_index=True)\n",
    "df=df.append(df.iloc[615],ignore_index=True)\n",
    "df=df.append(df.iloc[184],ignore_index=True)\n",
    "df=df.append(df.iloc[762],ignore_index=True)\n",
    "df.shape"
   ]
  },
  {
   "cell_type": "code",
   "execution_count": 118,
   "metadata": {},
   "outputs": [
    {
     "name": "stdout",
     "output_type": "stream",
     "text": [
      "62\n"
     ]
    },
    {
     "data": {
      "text/plain": [
       "{'Bajaj Avenger': 4857,\n",
       " 'Bajaj Pulsar': 4222,\n",
       " 'Royal Enfield': 4220,\n",
       " 'Hero Passion': 2867,\n",
       " 'Honda CB': 1765,\n",
       " 'Yamaha Fazer': 1299,\n",
       " 'TVS Apache': 1083,\n",
       " 'Yamaha YZF-R15': 924,\n",
       " 'KTM RC': 839,\n",
       " 'Yamaha FZ': 763,\n",
       " 'Bajaj Platina': 739,\n",
       " 'Bajaj Dominar': 729,\n",
       " 'Harley-Davidson Street': 724,\n",
       " 'Hero CD': 708,\n",
       " 'Hero CBZ': 705,\n",
       " 'Hero Hunk': 660,\n",
       " 'Hero Super': 655,\n",
       " 'Hyosung GT250R': 646,\n",
       " 'TVS Victor': 622,\n",
       " 'Suzuki Slingshot': 617,\n",
       " 'Yamaha SZ-RR': 613,\n",
       " 'Suzuki Zeus': 608,\n",
       " 'Hero Splendor': 430,\n",
       " 'Bajaj Discover': 397,\n",
       " 'KTM Duke': 261,\n",
       " 'Suzuki Gixxer': 176,\n",
       " 'Bajaj V15': 161,\n",
       " 'Honda CBR': 151,\n",
       " 'Hero HF': 137,\n",
       " 'Yamaha FZs': 131,\n",
       " 'UM Renegade': 128,\n",
       " 'Bajaj CT': 107,\n",
       " 'TVS Star': 102,\n",
       " 'Hero Karizma': 99,\n",
       " 'Honda CBF': 79,\n",
       " 'TVS Sport': 69,\n",
       " 'Honda Dream': 68,\n",
       " 'Hero Glamour': 56,\n",
       " 'Yamaha FZ16': 53,\n",
       " 'Benelli TNT': 50,\n",
       " 'Kawasaki Ninja': 48,\n",
       " 'Yamaha FZ25': 46,\n",
       " 'Honda Livo': 45,\n",
       " 'Suzuki Intruder': 42,\n",
       " 'Hero Ignitor': 40,\n",
       " 'Hero Xtreme': 36,\n",
       " 'Yamaha SZR': 35,\n",
       " 'Mahindra Centuro': 32,\n",
       " 'Harley-Davidson Iron': 30,\n",
       " 'Royal Enfield\\u200e': 29,\n",
       " 'Bajaj ': 26,\n",
       " 'Hero Honda': 25,\n",
       " 'Mahindra Mojo': 24,\n",
       " 'Bajaj V12': 21,\n",
       " 'Hyosung Aquila': 20,\n",
       " 'Honda CD': 18,\n",
       " 'Yamaha FZS': 16,\n",
       " 'Harley-Davidson Fat': 15,\n",
       " 'Hyosung GT650R': 14,\n",
       " 'Triumph Street': 13,\n",
       " 'BMW G': 12,\n",
       " 'Yamaha Saluto': 11}"
      ]
     },
     "execution_count": 118,
     "metadata": {},
     "output_type": "execute_result"
    }
   ],
   "source": [
    "# we have reduced it to 62 models and all models have unique value count\n",
    "print(len(df['model'].value_counts()))\n",
    "model_dict=dict(df.model.value_counts())\n",
    "model_dict"
   ]
  },
  {
   "cell_type": "markdown",
   "metadata": {},
   "source": [
    "# Encoding the categorical values"
   ]
  },
  {
   "cell_type": "code",
   "execution_count": 119,
   "metadata": {},
   "outputs": [],
   "source": [
    "#encoding our categorical values to numerical values using count/freuencey encoding\n",
    "owners=pd.get_dummies(df.Owner,drop_first=True)\n",
    "df=pd.concat([df,owners],axis=1)"
   ]
  },
  {
   "cell_type": "code",
   "execution_count": 120,
   "metadata": {},
   "outputs": [],
   "source": [
    "df['bike_model']=df['model'].map(model_dict)"
   ]
  },
  {
   "cell_type": "code",
   "execution_count": 121,
   "metadata": {},
   "outputs": [
    {
     "data": {
      "text/html": [
       "<div>\n",
       "<style scoped>\n",
       "    .dataframe tbody tr th:only-of-type {\n",
       "        vertical-align: middle;\n",
       "    }\n",
       "\n",
       "    .dataframe tbody tr th {\n",
       "        vertical-align: top;\n",
       "    }\n",
       "\n",
       "    .dataframe thead th {\n",
       "        text-align: right;\n",
       "    }\n",
       "</style>\n",
       "<table border=\"1\" class=\"dataframe\">\n",
       "  <thead>\n",
       "    <tr style=\"text-align: right;\">\n",
       "      <th></th>\n",
       "      <th>Name</th>\n",
       "      <th>Price</th>\n",
       "      <th>Location</th>\n",
       "      <th>Running</th>\n",
       "      <th>Owner</th>\n",
       "      <th>cc</th>\n",
       "      <th>Year</th>\n",
       "      <th>model</th>\n",
       "      <th>Fourth Owner Or More</th>\n",
       "      <th>Second Owner</th>\n",
       "      <th>Third Owner</th>\n",
       "      <th>bike_model</th>\n",
       "    </tr>\n",
       "  </thead>\n",
       "  <tbody>\n",
       "    <tr>\n",
       "      <th>0</th>\n",
       "      <td>TVS Star City Plus Dual Tone 110cc 2018</td>\n",
       "      <td>35000</td>\n",
       "      <td>Ahmedabad</td>\n",
       "      <td>17654</td>\n",
       "      <td>First Owner</td>\n",
       "      <td>110</td>\n",
       "      <td>2018</td>\n",
       "      <td>TVS Star</td>\n",
       "      <td>0</td>\n",
       "      <td>0</td>\n",
       "      <td>0</td>\n",
       "      <td>102</td>\n",
       "    </tr>\n",
       "    <tr>\n",
       "      <th>1</th>\n",
       "      <td>Royal Enfield Classic 350cc 2017</td>\n",
       "      <td>119900</td>\n",
       "      <td>Delhi</td>\n",
       "      <td>11000</td>\n",
       "      <td>First Owner</td>\n",
       "      <td>350</td>\n",
       "      <td>2017</td>\n",
       "      <td>Royal Enfield</td>\n",
       "      <td>0</td>\n",
       "      <td>0</td>\n",
       "      <td>0</td>\n",
       "      <td>4220</td>\n",
       "    </tr>\n",
       "    <tr>\n",
       "      <th>2</th>\n",
       "      <td>TVS Apache RTR 180cc 2017</td>\n",
       "      <td>65000</td>\n",
       "      <td>Bangalore</td>\n",
       "      <td>16329</td>\n",
       "      <td>First Owner</td>\n",
       "      <td>180</td>\n",
       "      <td>2017</td>\n",
       "      <td>TVS Apache</td>\n",
       "      <td>0</td>\n",
       "      <td>0</td>\n",
       "      <td>0</td>\n",
       "      <td>1083</td>\n",
       "    </tr>\n",
       "    <tr>\n",
       "      <th>3</th>\n",
       "      <td>Yamaha FZ S V 2.0 150cc-Ltd. Edition 2018</td>\n",
       "      <td>80000</td>\n",
       "      <td>Bangalore</td>\n",
       "      <td>10000</td>\n",
       "      <td>First Owner</td>\n",
       "      <td>150</td>\n",
       "      <td>2018</td>\n",
       "      <td>Yamaha FZ</td>\n",
       "      <td>0</td>\n",
       "      <td>0</td>\n",
       "      <td>0</td>\n",
       "      <td>763</td>\n",
       "    </tr>\n",
       "    <tr>\n",
       "      <th>4</th>\n",
       "      <td>Yamaha FZs 150cc 2015</td>\n",
       "      <td>53499</td>\n",
       "      <td>Delhi</td>\n",
       "      <td>25000</td>\n",
       "      <td>First Owner</td>\n",
       "      <td>150</td>\n",
       "      <td>2015</td>\n",
       "      <td>Yamaha FZs</td>\n",
       "      <td>0</td>\n",
       "      <td>0</td>\n",
       "      <td>0</td>\n",
       "      <td>131</td>\n",
       "    </tr>\n",
       "    <tr>\n",
       "      <th>...</th>\n",
       "      <td>...</td>\n",
       "      <td>...</td>\n",
       "      <td>...</td>\n",
       "      <td>...</td>\n",
       "      <td>...</td>\n",
       "      <td>...</td>\n",
       "      <td>...</td>\n",
       "      <td>...</td>\n",
       "      <td>...</td>\n",
       "      <td>...</td>\n",
       "      <td>...</td>\n",
       "      <td>...</td>\n",
       "    </tr>\n",
       "    <tr>\n",
       "      <th>34113</th>\n",
       "      <td>Bajaj Pulsar 150cc 2008</td>\n",
       "      <td>22000</td>\n",
       "      <td>Pune</td>\n",
       "      <td>60857</td>\n",
       "      <td>First Owner</td>\n",
       "      <td>150</td>\n",
       "      <td>2008</td>\n",
       "      <td>Bajaj Pulsar</td>\n",
       "      <td>0</td>\n",
       "      <td>0</td>\n",
       "      <td>0</td>\n",
       "      <td>4222</td>\n",
       "    </tr>\n",
       "    <tr>\n",
       "      <th>34114</th>\n",
       "      <td>TVS Sport Electric Start 2017</td>\n",
       "      <td>37000</td>\n",
       "      <td>Dehradun</td>\n",
       "      <td>7337</td>\n",
       "      <td>First Owner</td>\n",
       "      <td>201</td>\n",
       "      <td>2017</td>\n",
       "      <td>TVS Sport</td>\n",
       "      <td>0</td>\n",
       "      <td>0</td>\n",
       "      <td>0</td>\n",
       "      <td>69</td>\n",
       "    </tr>\n",
       "    <tr>\n",
       "      <th>34115</th>\n",
       "      <td>Hero Xtreme 200R 2018</td>\n",
       "      <td>72000</td>\n",
       "      <td>Mumbai</td>\n",
       "      <td>3490</td>\n",
       "      <td>First Owner</td>\n",
       "      <td>200</td>\n",
       "      <td>2018</td>\n",
       "      <td>Hero Xtreme</td>\n",
       "      <td>0</td>\n",
       "      <td>0</td>\n",
       "      <td>0</td>\n",
       "      <td>36</td>\n",
       "    </tr>\n",
       "    <tr>\n",
       "      <th>34116</th>\n",
       "      <td>Harley-Davidson Iron 883 2014</td>\n",
       "      <td>435000</td>\n",
       "      <td>Jaipur</td>\n",
       "      <td>5550</td>\n",
       "      <td>Second Owner</td>\n",
       "      <td>883</td>\n",
       "      <td>2014</td>\n",
       "      <td>Harley-Davidson Iron</td>\n",
       "      <td>0</td>\n",
       "      <td>1</td>\n",
       "      <td>0</td>\n",
       "      <td>30</td>\n",
       "    </tr>\n",
       "    <tr>\n",
       "      <th>34117</th>\n",
       "      <td>Yamaha FZS FI 150cc 2017</td>\n",
       "      <td>48600</td>\n",
       "      <td>Ludhiana</td>\n",
       "      <td>20559</td>\n",
       "      <td>First Owner</td>\n",
       "      <td>150</td>\n",
       "      <td>2017</td>\n",
       "      <td>Yamaha FZS</td>\n",
       "      <td>0</td>\n",
       "      <td>0</td>\n",
       "      <td>0</td>\n",
       "      <td>16</td>\n",
       "    </tr>\n",
       "  </tbody>\n",
       "</table>\n",
       "<p>34118 rows × 12 columns</p>\n",
       "</div>"
      ],
      "text/plain": [
       "                                            Name   Price   Location  Running  \\\n",
       "0        TVS Star City Plus Dual Tone 110cc 2018   35000  Ahmedabad    17654   \n",
       "1               Royal Enfield Classic 350cc 2017  119900      Delhi    11000   \n",
       "2                      TVS Apache RTR 180cc 2017   65000  Bangalore    16329   \n",
       "3      Yamaha FZ S V 2.0 150cc-Ltd. Edition 2018   80000  Bangalore    10000   \n",
       "4                          Yamaha FZs 150cc 2015   53499      Delhi    25000   \n",
       "...                                          ...     ...        ...      ...   \n",
       "34113                    Bajaj Pulsar 150cc 2008   22000       Pune    60857   \n",
       "34114              TVS Sport Electric Start 2017   37000   Dehradun     7337   \n",
       "34115                      Hero Xtreme 200R 2018   72000     Mumbai     3490   \n",
       "34116              Harley-Davidson Iron 883 2014  435000     Jaipur     5550   \n",
       "34117                   Yamaha FZS FI 150cc 2017   48600   Ludhiana    20559   \n",
       "\n",
       "              Owner   cc  Year                 model  Fourth Owner Or More  \\\n",
       "0       First Owner  110  2018              TVS Star                     0   \n",
       "1       First Owner  350  2017         Royal Enfield                     0   \n",
       "2       First Owner  180  2017            TVS Apache                     0   \n",
       "3       First Owner  150  2018             Yamaha FZ                     0   \n",
       "4       First Owner  150  2015            Yamaha FZs                     0   \n",
       "...             ...  ...   ...                   ...                   ...   \n",
       "34113   First Owner  150  2008          Bajaj Pulsar                     0   \n",
       "34114   First Owner  201  2017             TVS Sport                     0   \n",
       "34115   First Owner  200  2018           Hero Xtreme                     0   \n",
       "34116  Second Owner  883  2014  Harley-Davidson Iron                     0   \n",
       "34117   First Owner  150  2017            Yamaha FZS                     0   \n",
       "\n",
       "       Second Owner  Third Owner  bike_model  \n",
       "0                 0            0         102  \n",
       "1                 0            0        4220  \n",
       "2                 0            0        1083  \n",
       "3                 0            0         763  \n",
       "4                 0            0         131  \n",
       "...             ...          ...         ...  \n",
       "34113             0            0        4222  \n",
       "34114             0            0          69  \n",
       "34115             0            0          36  \n",
       "34116             1            0          30  \n",
       "34117             0            0          16  \n",
       "\n",
       "[34118 rows x 12 columns]"
      ]
     },
     "execution_count": 121,
     "metadata": {},
     "output_type": "execute_result"
    }
   ],
   "source": [
    "df"
   ]
  },
  {
   "cell_type": "markdown",
   "metadata": {},
   "source": [
    "# Generalising the location values to Corresponding state values"
   ]
  },
  {
   "cell_type": "code",
   "execution_count": 122,
   "metadata": {},
   "outputs": [
    {
     "data": {
      "text/plain": [
       "array(['Ahmedabad', 'Delhi', 'Bangalore', 'Mumbai', 'Bhubaneshwar',\n",
       "       'Kalyan', 'Faridabad', 'Hyderabad', 'Kaithal', 'Gurgaon', 'Pune',\n",
       "       'Noida', 'Nashik', 'Kochi', 'Allahabad', 'Samastipur', 'Nadiad',\n",
       "       'Lucknow', 'Jaipur', 'Karnal', 'Gorakhpur', 'Hosur', 'Baripara',\n",
       "       'Agra', 'Dharwad', 'Vadodara', 'Jalandhar', 'Surat', 'Chennai',\n",
       "       'Navi Mumbai', 'Gandhidham', 'Visakhapatnam', 'Thrissur',\n",
       "       'Kolkata', 'Ernakulam', 'Ghaziabad', 'Amritsar', 'Bagalkot',\n",
       "       'Hamirpur(hp)', 'Kottayam', 'Arrah', 'Patiala', 'Ranga Reddy',\n",
       "       'Mandi', 'Gwalior', 'Ludhiana', 'Mandya', 'Siliguri', 'Aurangabad',\n",
       "       'Kanpur', 'Bhilwara', 'Korba', 'Meerut', 'Rewari', 'Ahmednagar',\n",
       "       'Wardha', 'Chandigarh', 'Ranchi', 'Coimbatore', 'Panvel', 'Thane',\n",
       "       'Jabalpur', 'Kota', 'Rohtak', 'Rajkot', 'Haridwar', 'Varanasi',\n",
       "       '24 Pargana', 'Banka', 'Nagpur', 'Banki', 'Pali', 'Chhatarpur',\n",
       "       'Katihar', 'Mohali', 'Rudrapur', 'Jajpur', 'Mysore', 'Adoni',\n",
       "       'Bikaner', 'Malout', 'Jammu', 'Rajnandgaon', 'Unnao', 'Godhara',\n",
       "       'Kolhapur', 'Satara', 'Siwan', 'Dadra & Nagar Haveli', 'Bhiwani',\n",
       "       'Nizamabad', 'Madurai', 'Bhopal', 'Ujjain', 'Jagdalpur',\n",
       "       'Palakkad', 'Tiruvallur', 'Panchkula', 'Nanjangud', 'Jhansi',\n",
       "       'Sonipat', 'Puttur', 'Hoshiarpur', 'Gohana', 'Gautam Buddha Nagar',\n",
       "       'Palwal', 'Chatrapur', 'Howrah', 'Jind', 'Hubli', 'Panipat',\n",
       "       'Bharatpur', 'Vellore', 'Ambala', 'Guwahati', 'Indore', 'Gangtok',\n",
       "       'Tiruchirappalli', 'Medak', 'Belgaum', 'Balaghat', 'Jatani',\n",
       "       'Asansol', 'Bilaspur', 'Thanjavur', 'Raigarh(mh)', 'Mandi Dabwali',\n",
       "       'Basti', 'Aligarh', 'Balrampur', 'Ratnagiri', 'Muktsar', 'Baran',\n",
       "       'Haldwani', 'Thiruvananthapuram', 'Buxar', 'Chaksu', 'Bharuch',\n",
       "       'Muvattupuzha', 'Patna', 'Simdega', 'Singhbhum', 'Bardhaman',\n",
       "       'Pathankot', 'Kharar', 'Silchar', 'Jhalawar', 'Roorkee',\n",
       "       'Durgapur', 'Saharanpur', 'Solapur', 'Katni', 'Khedbrahma',\n",
       "       'Valsad', 'Satna', 'Hooghly', 'Gurdaspur', 'Dadri', 'Amravati',\n",
       "       'Durg', 'Mehsana', 'Lansdowne', 'Cuttack', 'Jaisalmer',\n",
       "       'Hanumangarh', 'Dungarpur', 'Sri Ganganagar', 'Raipur', 'Margao',\n",
       "       'Chinsurah', 'Bhatinda', 'Sibsagar', 'Khalilabad', 'Dehradun',\n",
       "       'Anand', 'Sambalpur', 'Purnia', 'Tiruverkadu', 'Bahadurgarh',\n",
       "       'Udaipur', 'Raipur Rani', 'Jodhpur', 'Sheikhpura', 'Lalsot',\n",
       "       'Pondicherry', 'Sirsa', 'Godavari', 'Ajmer', 'Moradabad',\n",
       "       'Navsari', 'Herbertpur', 'Jamshedpur', 'Ramanagar', 'Vijayawada',\n",
       "       'Murad Nagar', 'Jamtara', 'Uppidamangalam', 'Nalagarh', 'Una',\n",
       "       'Chakan', 'Idukki', 'Shivpuri', 'Arkalgud', 'Bidar', 'Rupnagar',\n",
       "       'Almora', 'Deoghar', 'Kanchipuram', 'Vapi', 'Kasargode', 'Dhanbad',\n",
       "       'Dakshina Kannada', 'Dayalbagh', 'Ganaur', 'Jamalpur', 'Amraoti',\n",
       "       'Mangalore', 'Deolali', 'Gandhinagar', 'Chitradurga', 'Chinchwad',\n",
       "       'Surendranagar', 'Jhajjar', 'Ankleshwar', 'Alwar', 'Ranoli',\n",
       "       'Raiwala', 'Guntur', 'Badarpur', 'Adalaj', 'Alipore',\n",
       "       'Bhawani Mandi', 'Mughalsarai', 'Kollam', 'Medinipur',\n",
       "       'Farukhabad', 'Thiruvallur', 'Udaipurwati', 'Rasra', 'Latur',\n",
       "       'Krishna', 'Gangaikondan', 'Warangal', 'Uluberia', 'Bulandshahr',\n",
       "       'Mahesana', 'Poonamallee', 'Morena', 'Nagaon', 'Hissar',\n",
       "       'Kanyakumari', 'Morbi', 'Jalgaon', 'Bankura', 'Virar', 'Akola',\n",
       "       'Tikamgarh', 'Sultanpur', 'Ferozepur', 'Tirunelveli',\n",
       "       'Bihar Shariff', 'Risod', 'Vastral', 'Doiwala', 'Ganganagar',\n",
       "       'Kolar', 'Batala', 'Budhlada', 'Dohad', 'Vidisha', 'Puri', 'Etwah',\n",
       "       'Muzaffarnagar', 'Panaji', 'Adyar', 'Calicut', 'Raigarh',\n",
       "       'Sonepat', 'Chikkaballapur', 'Kasba', 'Burdwan', 'Anjar',\n",
       "       'Marandahalli', 'Badaun', 'Namakkal', 'Idar', 'Uran', 'Hingoli',\n",
       "       'Alibag', 'Hathras', 'Khandela', 'Kullu', 'Mohammadabad',\n",
       "       'Sangareddy', 'Ghazipur', 'Shimla', 'Azamgarh', 'Lonavala',\n",
       "       'Chenani', 'Kanpur Nagar', 'Trivandrum', 'Secunderabad', 'Tasgaon',\n",
       "       'Kurukshetra', 'Dhariawad', 'Dhenkanal', 'Bargarh', 'Gadarpur',\n",
       "       'Chikamaglur', 'Karim Nagar', 'Kotdwar', 'Jalaun', 'Parola',\n",
       "       'Bareilly', 'Salem', 'Indi', 'Muzaffarpur', 'Nayagarh',\n",
       "       'Bhavnagar', 'Firozabad', 'Ambikapur', 'Udupi', 'Junagadh',\n",
       "       'Dibrugarh', 'Faridkot', 'Naraingarh', 'Karwar', 'Mirzapur',\n",
       "       'Goa-panaji', 'Sant Kabir Nagar', 'Viramgam', 'Manali', 'Gadwal',\n",
       "       'Honavar', 'Mathura', 'Khandwa', 'Solan', 'Dharmapuri', 'Sitapur',\n",
       "       'Krishnagar', 'Betul', 'Anantapur', 'Sholapur', 'Pinjore',\n",
       "       'Qadian', 'Sangrur', 'Jorhat', 'Palanpur', 'Narnaul', 'Palamu',\n",
       "       'Kiratpur', 'Falakata', 'Porbandar', 'Nagaur', 'Dwarka', 'Rangpo',\n",
       "       'Dewas', 'Cannanore (kannur)', 'Churu', 'Hazipur', 'Kordha',\n",
       "       'Baghpat', 'Jhumri Tilaiya', 'Bhagalpur', 'Naihati',\n",
       "       'Virudhunagar', 'Dharmavaram', 'Mahboobnagar', 'Darbhanga',\n",
       "       'Nawanshahr', 'Hamirpur', 'Adilabad', 'Sangli', 'Suri',\n",
       "       'Yamuna Nagar', 'Vasai', 'Aluva', 'Sirsi', 'Bijapur', 'Bhiwadi',\n",
       "       'Bellary', 'Erode', 'Aquem', 'Nellore', 'Udhampur', 'Dhamtari',\n",
       "       'Kapurthala', 'Vandalur', 'Sakti', 'Jamui', 'Bhiwandi', 'Motihari',\n",
       "       'Dharwar', 'Shimoga', 'Jhunjhunu', 'Bijnor', 'Sindri',\n",
       "       'Yemmiganur', 'Bokaro', 'Kurnool', 'Srinagar', 'Ranip',\n",
       "       'Davanagere', 'Gonda', 'Rajouri', 'Begusarai', 'Barwani',\n",
       "       'Goregaon', 'Bally', 'Kachchh', 'Anekal', 'Bhuj', 'Mansa', 'Pen',\n",
       "       'Nanded', 'Dharamasala', 'Chhindwara', 'Jamnagar', 'Zirakpur',\n",
       "       'Abohar', 'Barabanki', 'Nabha', 'Kadapa', 'Perumbavoor',\n",
       "       'Sundargarh', 'Nazira', 'Pratapgarh', 'Thangadh', 'Sikar',\n",
       "       'Barasat', 'Vizianagaram', 'Kathua', 'Berhampore', 'Kadipur',\n",
       "       'Deesa', 'Tiruppur', 'Gadchiroli', 'Gangaghat', 'Phagwara',\n",
       "       'Kheda', 'Swaimadhopur', 'Akbarpur', 'Kharagpur', 'Jobner',\n",
       "       'Gondia', 'Bundi', 'Dongargaon', 'Mubarakpur', 'Chail', 'Tumkur',\n",
       "       'Sanand', 'Kartarpur', 'Farrukhabad', 'Kadi', 'Seppa',\n",
       "       'Challakere', 'Dhubri', 'Deoria', 'Akot', 'Meenachil', 'Alappuzha',\n",
       "       'Shillong', 'Osmanabad', 'Kanakapura', 'Kendua', 'Jaunpur',\n",
       "       'Hisar', 'Bodhan', 'Bhubaneswar', 'Raiganj', 'Bhilai Nagar',\n",
       "       'Baloda', 'Anantnag', 'Silvasa', 'Hospet', 'Palai', 'Sidhi'],\n",
       "      dtype=object)"
      ]
     },
     "execution_count": 122,
     "metadata": {},
     "output_type": "execute_result"
    }
   ],
   "source": [
    "#we have many locations, so we need to reduce the no of locations\n",
    "#we can convert the city/town to state name\n",
    "#https://censusindia.gov.in/tables_published/Admin_Units/Admin_links/Town_Codes_2001.xls\n",
    "#the above link is used to get the india census data having city/town and state data\n",
    "df.Location.unique()"
   ]
  },
  {
   "cell_type": "code",
   "execution_count": 123,
   "metadata": {},
   "outputs": [],
   "source": [
    "city=pd.read_excel('Town_Codes_2001.xls')"
   ]
  },
  {
   "cell_type": "code",
   "execution_count": 124,
   "metadata": {},
   "outputs": [
    {
     "data": {
      "text/html": [
       "<div>\n",
       "<style scoped>\n",
       "    .dataframe tbody tr th:only-of-type {\n",
       "        vertical-align: middle;\n",
       "    }\n",
       "\n",
       "    .dataframe tbody tr th {\n",
       "        vertical-align: top;\n",
       "    }\n",
       "\n",
       "    .dataframe thead th {\n",
       "        text-align: right;\n",
       "    }\n",
       "</style>\n",
       "<table border=\"1\" class=\"dataframe\">\n",
       "  <thead>\n",
       "    <tr style=\"text-align: right;\">\n",
       "      <th></th>\n",
       "      <th>city</th>\n",
       "      <th>state</th>\n",
       "      <th>district</th>\n",
       "    </tr>\n",
       "  </thead>\n",
       "  <tbody>\n",
       "    <tr>\n",
       "      <th>0</th>\n",
       "      <td>1 SGM</td>\n",
       "      <td>Rajasthan</td>\n",
       "      <td>Ganganagar</td>\n",
       "    </tr>\n",
       "    <tr>\n",
       "      <th>1</th>\n",
       "      <td>3 STR</td>\n",
       "      <td>Rajasthan</td>\n",
       "      <td>Ganganagar</td>\n",
       "    </tr>\n",
       "    <tr>\n",
       "      <th>2</th>\n",
       "      <td>A.Thirumuruganpoondi</td>\n",
       "      <td>Tamil Nadu</td>\n",
       "      <td>Coimbatore</td>\n",
       "    </tr>\n",
       "    <tr>\n",
       "      <th>3</th>\n",
       "      <td>A.Vellalapatti</td>\n",
       "      <td>Tamil Nadu</td>\n",
       "      <td>Madurai</td>\n",
       "    </tr>\n",
       "    <tr>\n",
       "      <th>4</th>\n",
       "      <td>Aadityana</td>\n",
       "      <td>Gujarat</td>\n",
       "      <td>Porbandar</td>\n",
       "    </tr>\n",
       "    <tr>\n",
       "      <th>5</th>\n",
       "      <td>Aambaliyasan</td>\n",
       "      <td>Gujarat</td>\n",
       "      <td>Mahesana</td>\n",
       "    </tr>\n",
       "    <tr>\n",
       "      <th>6</th>\n",
       "      <td>Aantaliya</td>\n",
       "      <td>Gujarat</td>\n",
       "      <td>Navsari</td>\n",
       "    </tr>\n",
       "    <tr>\n",
       "      <th>7</th>\n",
       "      <td>Aarambhada</td>\n",
       "      <td>Gujarat</td>\n",
       "      <td>Jamnagar</td>\n",
       "    </tr>\n",
       "    <tr>\n",
       "      <th>8</th>\n",
       "      <td>Abhayapuri</td>\n",
       "      <td>Assam</td>\n",
       "      <td>Bongaigaon</td>\n",
       "    </tr>\n",
       "    <tr>\n",
       "      <th>9</th>\n",
       "      <td>Abiramam</td>\n",
       "      <td>Tamil Nadu</td>\n",
       "      <td>Ramanathapuram</td>\n",
       "    </tr>\n",
       "  </tbody>\n",
       "</table>\n",
       "</div>"
      ],
      "text/plain": [
       "                   city       state        district\n",
       "0                 1 SGM   Rajasthan      Ganganagar\n",
       "1                 3 STR   Rajasthan      Ganganagar\n",
       "2  A.Thirumuruganpoondi  Tamil Nadu      Coimbatore\n",
       "3        A.Vellalapatti  Tamil Nadu         Madurai\n",
       "4             Aadityana     Gujarat       Porbandar\n",
       "5          Aambaliyasan     Gujarat        Mahesana\n",
       "6             Aantaliya     Gujarat         Navsari\n",
       "7            Aarambhada     Gujarat        Jamnagar\n",
       "8            Abhayapuri       Assam      Bongaigaon\n",
       "9              Abiramam  Tamil Nadu  Ramanathapuram"
      ]
     },
     "execution_count": 124,
     "metadata": {},
     "output_type": "execute_result"
    }
   ],
   "source": [
    "city=city.drop(['Code List of Cities/Towns (in alphabetical order): 2001','Unnamed: 2','Unnamed: 3','Unnamed: 5'],axis=1)\n",
    "city=city[:5166]\n",
    "city=city[5:].reset_index().drop('index',axis=1)\n",
    "city.rename(columns={'Unnamed: 1':'city','Unnamed: 4':'state','Unnamed: 6':'district'},inplace=True)\n",
    "city.head(10)"
   ]
  },
  {
   "cell_type": "code",
   "execution_count": 125,
   "metadata": {},
   "outputs": [
    {
     "data": {
      "text/html": [
       "<div>\n",
       "<style scoped>\n",
       "    .dataframe tbody tr th:only-of-type {\n",
       "        vertical-align: middle;\n",
       "    }\n",
       "\n",
       "    .dataframe tbody tr th {\n",
       "        vertical-align: top;\n",
       "    }\n",
       "\n",
       "    .dataframe thead th {\n",
       "        text-align: right;\n",
       "    }\n",
       "</style>\n",
       "<table border=\"1\" class=\"dataframe\">\n",
       "  <thead>\n",
       "    <tr style=\"text-align: right;\">\n",
       "      <th></th>\n",
       "      <th>city</th>\n",
       "      <th>state</th>\n",
       "      <th>district</th>\n",
       "    </tr>\n",
       "  </thead>\n",
       "  <tbody>\n",
       "    <tr>\n",
       "      <th>5151</th>\n",
       "      <td>Zaidpur</td>\n",
       "      <td>Uttar Pradesh</td>\n",
       "      <td>Barabanki</td>\n",
       "    </tr>\n",
       "    <tr>\n",
       "      <th>5152</th>\n",
       "      <td>Zalod</td>\n",
       "      <td>Gujarat</td>\n",
       "      <td>Dohad</td>\n",
       "    </tr>\n",
       "    <tr>\n",
       "      <th>5153</th>\n",
       "      <td>Zamania</td>\n",
       "      <td>Uttar Pradesh</td>\n",
       "      <td>Ghazipur</td>\n",
       "    </tr>\n",
       "    <tr>\n",
       "      <th>5154</th>\n",
       "      <td>Zamin Uthukuli</td>\n",
       "      <td>Tamil Nadu</td>\n",
       "      <td>Coimbatore</td>\n",
       "    </tr>\n",
       "    <tr>\n",
       "      <th>5155</th>\n",
       "      <td>Zawlnuam</td>\n",
       "      <td>Mizoram</td>\n",
       "      <td>Mamit</td>\n",
       "    </tr>\n",
       "    <tr>\n",
       "      <th>5156</th>\n",
       "      <td>Ziauddin Pur</td>\n",
       "      <td>Delhi *</td>\n",
       "      <td>North East</td>\n",
       "    </tr>\n",
       "    <tr>\n",
       "      <th>5157</th>\n",
       "      <td>Zira</td>\n",
       "      <td>Punjab</td>\n",
       "      <td>Firozpur</td>\n",
       "    </tr>\n",
       "    <tr>\n",
       "      <th>5158</th>\n",
       "      <td>Zirakpur</td>\n",
       "      <td>Punjab</td>\n",
       "      <td>Patiala</td>\n",
       "    </tr>\n",
       "    <tr>\n",
       "      <th>5159</th>\n",
       "      <td>Ziro</td>\n",
       "      <td>Arunachal Pradesh</td>\n",
       "      <td>Lower Subansiri</td>\n",
       "    </tr>\n",
       "    <tr>\n",
       "      <th>5160</th>\n",
       "      <td>Zunheboto</td>\n",
       "      <td>Nagaland</td>\n",
       "      <td>Zunheboto</td>\n",
       "    </tr>\n",
       "  </tbody>\n",
       "</table>\n",
       "</div>"
      ],
      "text/plain": [
       "                city              state         district\n",
       "5151         Zaidpur      Uttar Pradesh        Barabanki\n",
       "5152           Zalod            Gujarat            Dohad\n",
       "5153         Zamania      Uttar Pradesh         Ghazipur\n",
       "5154  Zamin Uthukuli         Tamil Nadu       Coimbatore\n",
       "5155        Zawlnuam            Mizoram            Mamit\n",
       "5156    Ziauddin Pur            Delhi *       North East\n",
       "5157            Zira             Punjab         Firozpur\n",
       "5158        Zirakpur             Punjab          Patiala\n",
       "5159            Ziro  Arunachal Pradesh  Lower Subansiri\n",
       "5160       Zunheboto           Nagaland        Zunheboto"
      ]
     },
     "execution_count": 125,
     "metadata": {},
     "output_type": "execute_result"
    }
   ],
   "source": [
    "city.tail(10)"
   ]
  },
  {
   "cell_type": "code",
   "execution_count": 126,
   "metadata": {},
   "outputs": [
    {
     "data": {
      "text/plain": [
       "array(['Rajasthan', 'Tamil Nadu', 'Gujarat', 'Assam', 'Punjab',\n",
       "       'Jammu & Kashmir', 'Maharashtra', 'Uttar Pradesh',\n",
       "       'Andhra Pradesh', 'Karnataka', 'Jharkhand', 'Kerala',\n",
       "       'West Bengal', 'Madhya Pradesh', 'Tripura', 'Chhattisgarh',\n",
       "       'Mizoram', 'Goa', 'Delhi *', 'Uttaranchal', 'Arunachal Pradesh',\n",
       "       'Bihar', 'Haryana', 'Lakshadweep *', 'Dadra & Nagar Haveli *',\n",
       "       'Orissa', 'Manipur', 'Himachal Pradesh', 'Meghalaya',\n",
       "       'Andaman & Nicobar Islands *', 'Chandigarh *', 'Nagaland',\n",
       "       'Daman & Diu *', 'Sikkim', 'Pondicherry *'], dtype=object)"
      ]
     },
     "execution_count": 126,
     "metadata": {},
     "output_type": "execute_result"
    }
   ],
   "source": [
    "#some states have '*'\n",
    "city.state.unique()"
   ]
  },
  {
   "cell_type": "code",
   "execution_count": 127,
   "metadata": {},
   "outputs": [],
   "source": [
    "city['state']=city.state.str.replace('*','')"
   ]
  },
  {
   "cell_type": "code",
   "execution_count": 128,
   "metadata": {},
   "outputs": [
    {
     "data": {
      "text/plain": [
       "array(['Rajasthan', 'Tamil Nadu', 'Gujarat', 'Assam', 'Punjab',\n",
       "       'Jammu & Kashmir', 'Maharashtra', 'Uttar Pradesh',\n",
       "       'Andhra Pradesh', 'Karnataka', 'Jharkhand', 'Kerala',\n",
       "       'West Bengal', 'Madhya Pradesh', 'Tripura', 'Chhattisgarh',\n",
       "       'Mizoram', 'Goa', 'Delhi ', 'Uttaranchal', 'Arunachal Pradesh',\n",
       "       'Bihar', 'Haryana', 'Lakshadweep ', 'Dadra & Nagar Haveli ',\n",
       "       'Orissa', 'Manipur', 'Himachal Pradesh', 'Meghalaya',\n",
       "       'Andaman & Nicobar Islands ', 'Chandigarh ', 'Nagaland',\n",
       "       'Daman & Diu ', 'Sikkim', 'Pondicherry '], dtype=object)"
      ]
     },
     "execution_count": 128,
     "metadata": {},
     "output_type": "execute_result"
    }
   ],
   "source": [
    "city.state.unique()"
   ]
  },
  {
   "cell_type": "code",
   "execution_count": 129,
   "metadata": {},
   "outputs": [],
   "source": [
    "city_dict={}\n",
    "for s,ci in city.groupby('state').city:\n",
    "    c=list(ci)\n",
    "    for cc in c:\n",
    "        city_dict.update({cc: s})"
   ]
  },
  {
   "cell_type": "code",
   "execution_count": 130,
   "metadata": {},
   "outputs": [],
   "source": [
    "district_dict={}\n",
    "for s2,district in city.groupby('state').district:\n",
    "    d=list(district)\n",
    "    for dd in d:\n",
    "        district_dict.update({dd: s2})"
   ]
  },
  {
   "cell_type": "code",
   "execution_count": 131,
   "metadata": {},
   "outputs": [],
   "source": [
    "cd_dict = {**district_dict, **city_dict}"
   ]
  },
  {
   "cell_type": "code",
   "execution_count": 132,
   "metadata": {},
   "outputs": [
    {
     "data": {
      "text/plain": [
       "(12085, 13)"
      ]
     },
     "execution_count": 132,
     "metadata": {},
     "output_type": "execute_result"
    }
   ],
   "source": [
    "#we are mapping the city,district names with respective state names\n",
    "df['place']=df['Location'].map(cd_dict)\n",
    "#we still have 12k records having cities/district which were not covered by our census dataset\n",
    "df[df.place.isnull()].shape"
   ]
  },
  {
   "cell_type": "code",
   "execution_count": 133,
   "metadata": {},
   "outputs": [
    {
     "data": {
      "text/plain": [
       "array(['Delhi', 'Mumbai', 'Bhubaneshwar', 'Kalyan', 'Baripara',\n",
       "       'Hamirpur(hp)', 'Ranga Reddy', 'Ahmednagar', 'Haridwar',\n",
       "       '24 Pargana', 'Mohali', 'Jajpur', 'Godhara', 'Tiruvallur',\n",
       "       'Chatrapur', 'Howrah', 'Hubli', 'Raigarh(mh)', 'Haldwani',\n",
       "       'Singhbhum', 'Bardhaman', 'Hooghly', 'Mehsana', 'Sri Ganganagar',\n",
       "       'Chinsurah', 'Bhatinda', 'Godavari', 'Ramanagar', 'Murad Nagar',\n",
       "       'Kanchipuram', 'Kasargode', 'Amraoti', 'Chinchwad', 'Ankleshwar',\n",
       "       'Raiwala', 'Alipore', 'Farukhabad', 'Hissar', 'Kanyakumari',\n",
       "       'Morbi', 'Ferozepur', 'Bihar Shariff', 'Etwah', 'Calicut',\n",
       "       'Sonepat', 'Chikkaballapur', 'Burdwan', 'Badaun', 'Chikamaglur',\n",
       "       'Karim Nagar', 'Kotdwar', 'Goa-panaji', 'Krishnagar', 'Sholapur',\n",
       "       'Cannanore (kannur)', 'Hazipur', 'Kordha', 'Mahboobnagar',\n",
       "       'Yamuna Nagar', 'Dharwar', 'Jhunjhunu', 'Rajouri', 'Dharamasala',\n",
       "       'Kadapa', 'Berhampore', 'Swaimadhopur', 'Gondia', 'Meenachil',\n",
       "       'Silvasa'], dtype=object)"
      ]
     },
     "execution_count": 133,
     "metadata": {},
     "output_type": "execute_result"
    }
   ],
   "source": [
    "#these are cities/districts/towns which were not listed in our census dataset\n",
    "df[df.place.isnull()].Location.unique()"
   ]
  },
  {
   "cell_type": "code",
   "execution_count": 134,
   "metadata": {},
   "outputs": [],
   "source": [
    "#since the no of cities/towns are less, collected the data manually and updated in the main dictionary\n",
    "cd_dict.update({'Delhi':'Delhi', 'Mumbai':'Maharashtra', 'Bhubaneshwar':'Orissa', 'Kalyan':'Maharashtra', 'Baripara':'Uttar Pradesh',\n",
    "       'Hamirpur(hp)':'Himachal Pradesh', 'Ranga Reddy':'Telangana', 'Ahmednagar':'Maharashtra', 'Haridwar':'Uttarakhand',\n",
    "       '24 Pargana':'West Bengal', 'Mohali':'Punjab', 'Jajpur':'Odisha', 'Godhara':'Gujarat', 'Tiruvallur':'Tamil Nadu',\n",
    "       'Chatrapur':'Odisha', 'Howrah':'West Bengal', 'Hubli':'Karnataka', 'Raigarh(mh)':'Chhattisgarh', 'Haldwani':'Uttarakhand',\n",
    "       'Singhbhum':'Jharkhand', 'Bardhaman':'West Bengal', 'Hooghly':'West Bengal', 'Mehsana':'Gujarat', 'Sri Ganganagar':'Rajasthan',\n",
    "       'Chinsurah':'West Bengal', 'Bhatinda':'Punjab', 'Godavari':'Andhra Pradesh', 'Ramanagar':'Karnataka', 'Murad Nagar':'Uttar Pradesh',\n",
    "       'Kanchipuram':'Tamil Nadu', 'Kasargode':'Kerala', 'Amraoti':'Maharashtra', 'Chinchwad':'Maharashtra', 'Ankleshwar':'Gujarat',\n",
    "       'Raiwala':'Uttarakhand', 'Alipore':'West Bengal', 'Farukhabad':'Uttar Pradesh', 'Hissar':'Haryana', 'Kanyakumari':'Tamil Nadu',\n",
    "       'Morbi':'Gujarat', 'Ferozepur':'Punjab', 'Bihar Shariff':'Bihar', 'Etwah':'Uttar Pradesh', 'Calicut':'Kerala',\n",
    "       'Sonepat':'Haryana', 'Chikkaballapur':'Karnataka', 'Burdwan':'West Bengal', 'Badaun':'Uttar Pradesh', 'Chikamaglur':'Karnataka',\n",
    "       'Karim Nagar':'Telangana', 'Kotdwar':'Uttarakhand', 'Goa-panaji':'Goa', 'Krishnagar':'West Bengal', 'Sholapur':'Maharashtra',\n",
    "       'Cannanore (kannur)':'Kerala', 'Hazipur':'Bihar', 'Kordha':'Maharashtra', 'Mahboobnagar':'Telangana',\n",
    "       'Yamuna Nagar':'Haryana', 'Dharwar':'Karnataka', 'Jhunjhunu':'Rajasthan', 'Rajouri':'Jammu & Kashmir', 'Dharamasala':'Himachal Pradesh',\n",
    "       'Kadapa':'Andhra Pradesh', 'Berhampore':'West Bengal', 'Swaimadhopur':'Rajasthan', 'Gondia':'Maharashtra', 'Meenachil':'Kerala',\n",
    "       'Silvasa':'Gujarat'})"
   ]
  },
  {
   "cell_type": "code",
   "execution_count": 135,
   "metadata": {},
   "outputs": [
    {
     "data": {
      "text/plain": [
       "(0, 13)"
      ]
     },
     "execution_count": 135,
     "metadata": {},
     "output_type": "execute_result"
    }
   ],
   "source": [
    "df['place']=df['Location'].map(cd_dict)\n",
    "#all the null values have been filled\n",
    "df[df.place.isnull()].shape"
   ]
  },
  {
   "cell_type": "code",
   "execution_count": 136,
   "metadata": {},
   "outputs": [
    {
     "data": {
      "text/html": [
       "<div>\n",
       "<style scoped>\n",
       "    .dataframe tbody tr th:only-of-type {\n",
       "        vertical-align: middle;\n",
       "    }\n",
       "\n",
       "    .dataframe tbody tr th {\n",
       "        vertical-align: top;\n",
       "    }\n",
       "\n",
       "    .dataframe thead th {\n",
       "        text-align: right;\n",
       "    }\n",
       "</style>\n",
       "<table border=\"1\" class=\"dataframe\">\n",
       "  <thead>\n",
       "    <tr style=\"text-align: right;\">\n",
       "      <th></th>\n",
       "      <th>Name</th>\n",
       "      <th>Price</th>\n",
       "      <th>Location</th>\n",
       "      <th>Running</th>\n",
       "      <th>Owner</th>\n",
       "      <th>cc</th>\n",
       "      <th>Year</th>\n",
       "      <th>model</th>\n",
       "      <th>Fourth Owner Or More</th>\n",
       "      <th>Second Owner</th>\n",
       "      <th>Third Owner</th>\n",
       "      <th>bike_model</th>\n",
       "      <th>place</th>\n",
       "    </tr>\n",
       "  </thead>\n",
       "  <tbody>\n",
       "    <tr>\n",
       "      <th>0</th>\n",
       "      <td>TVS Star City Plus Dual Tone 110cc 2018</td>\n",
       "      <td>35000</td>\n",
       "      <td>Ahmedabad</td>\n",
       "      <td>17654</td>\n",
       "      <td>First Owner</td>\n",
       "      <td>110</td>\n",
       "      <td>2018</td>\n",
       "      <td>TVS Star</td>\n",
       "      <td>0</td>\n",
       "      <td>0</td>\n",
       "      <td>0</td>\n",
       "      <td>102</td>\n",
       "      <td>Gujarat</td>\n",
       "    </tr>\n",
       "    <tr>\n",
       "      <th>1</th>\n",
       "      <td>Royal Enfield Classic 350cc 2017</td>\n",
       "      <td>119900</td>\n",
       "      <td>Delhi</td>\n",
       "      <td>11000</td>\n",
       "      <td>First Owner</td>\n",
       "      <td>350</td>\n",
       "      <td>2017</td>\n",
       "      <td>Royal Enfield</td>\n",
       "      <td>0</td>\n",
       "      <td>0</td>\n",
       "      <td>0</td>\n",
       "      <td>4220</td>\n",
       "      <td>Delhi</td>\n",
       "    </tr>\n",
       "    <tr>\n",
       "      <th>2</th>\n",
       "      <td>TVS Apache RTR 180cc 2017</td>\n",
       "      <td>65000</td>\n",
       "      <td>Bangalore</td>\n",
       "      <td>16329</td>\n",
       "      <td>First Owner</td>\n",
       "      <td>180</td>\n",
       "      <td>2017</td>\n",
       "      <td>TVS Apache</td>\n",
       "      <td>0</td>\n",
       "      <td>0</td>\n",
       "      <td>0</td>\n",
       "      <td>1083</td>\n",
       "      <td>Karnataka</td>\n",
       "    </tr>\n",
       "    <tr>\n",
       "      <th>3</th>\n",
       "      <td>Yamaha FZ S V 2.0 150cc-Ltd. Edition 2018</td>\n",
       "      <td>80000</td>\n",
       "      <td>Bangalore</td>\n",
       "      <td>10000</td>\n",
       "      <td>First Owner</td>\n",
       "      <td>150</td>\n",
       "      <td>2018</td>\n",
       "      <td>Yamaha FZ</td>\n",
       "      <td>0</td>\n",
       "      <td>0</td>\n",
       "      <td>0</td>\n",
       "      <td>763</td>\n",
       "      <td>Karnataka</td>\n",
       "    </tr>\n",
       "    <tr>\n",
       "      <th>4</th>\n",
       "      <td>Yamaha FZs 150cc 2015</td>\n",
       "      <td>53499</td>\n",
       "      <td>Delhi</td>\n",
       "      <td>25000</td>\n",
       "      <td>First Owner</td>\n",
       "      <td>150</td>\n",
       "      <td>2015</td>\n",
       "      <td>Yamaha FZs</td>\n",
       "      <td>0</td>\n",
       "      <td>0</td>\n",
       "      <td>0</td>\n",
       "      <td>131</td>\n",
       "      <td>Delhi</td>\n",
       "    </tr>\n",
       "  </tbody>\n",
       "</table>\n",
       "</div>"
      ],
      "text/plain": [
       "                                        Name   Price   Location  Running  \\\n",
       "0    TVS Star City Plus Dual Tone 110cc 2018   35000  Ahmedabad    17654   \n",
       "1           Royal Enfield Classic 350cc 2017  119900      Delhi    11000   \n",
       "2                  TVS Apache RTR 180cc 2017   65000  Bangalore    16329   \n",
       "3  Yamaha FZ S V 2.0 150cc-Ltd. Edition 2018   80000  Bangalore    10000   \n",
       "4                      Yamaha FZs 150cc 2015   53499      Delhi    25000   \n",
       "\n",
       "         Owner   cc  Year          model  Fourth Owner Or More  Second Owner  \\\n",
       "0  First Owner  110  2018       TVS Star                     0             0   \n",
       "1  First Owner  350  2017  Royal Enfield                     0             0   \n",
       "2  First Owner  180  2017     TVS Apache                     0             0   \n",
       "3  First Owner  150  2018      Yamaha FZ                     0             0   \n",
       "4  First Owner  150  2015     Yamaha FZs                     0             0   \n",
       "\n",
       "   Third Owner  bike_model      place  \n",
       "0            0         102    Gujarat  \n",
       "1            0        4220      Delhi  \n",
       "2            0        1083  Karnataka  \n",
       "3            0         763  Karnataka  \n",
       "4            0         131      Delhi  "
      ]
     },
     "execution_count": 136,
     "metadata": {},
     "output_type": "execute_result"
    }
   ],
   "source": [
    "df.head()"
   ]
  },
  {
   "cell_type": "code",
   "execution_count": 137,
   "metadata": {},
   "outputs": [
    {
     "data": {
      "text/plain": [
       "32"
      ]
     },
     "execution_count": 137,
     "metadata": {},
     "output_type": "execute_result"
    }
   ],
   "source": [
    "#now we have 32 categories in place \n",
    "len(df.place.unique())"
   ]
  },
  {
   "cell_type": "code",
   "execution_count": 138,
   "metadata": {},
   "outputs": [
    {
     "data": {
      "text/plain": [
       "{'Delhi': 7349,\n",
       " 'Uttar Pradesh': 6726,\n",
       " 'Maharashtra': 4602,\n",
       " 'Karnataka': 2801,\n",
       " 'Tamil Nadu': 2366,\n",
       " 'Rajasthan': 2311,\n",
       " 'Haryana': 1946,\n",
       " 'Gujarat': 1787,\n",
       " 'West Bengal': 863,\n",
       " 'Punjab': 848,\n",
       " 'Madhya Pradesh': 736,\n",
       " 'Andhra Pradesh': 669,\n",
       " 'Kerala': 659,\n",
       " 'Bihar': 74,\n",
       " 'Orissa': 68,\n",
       " 'Uttaranchal': 61,\n",
       " 'Chandigarh ': 47,\n",
       " 'Assam': 46,\n",
       " 'Jharkhand': 31,\n",
       " 'Chhattisgarh': 26,\n",
       " 'Himachal Pradesh': 22,\n",
       " 'Jammu & Kashmir': 15,\n",
       " 'Tripura': 14,\n",
       " 'Telangana': 14,\n",
       " 'Uttarakhand': 10,\n",
       " 'Pondicherry ': 9,\n",
       " 'Goa': 9,\n",
       " 'Sikkim': 3,\n",
       " 'Meghalaya': 2,\n",
       " 'Odisha': 2,\n",
       " 'Dadra & Nagar Haveli ': 1,\n",
       " 'Arunachal Pradesh': 1}"
      ]
     },
     "execution_count": 138,
     "metadata": {},
     "output_type": "execute_result"
    }
   ],
   "source": [
    "df['place'].value_counts().to_dict()"
   ]
  },
  {
   "cell_type": "code",
   "execution_count": 139,
   "metadata": {},
   "outputs": [],
   "source": [
    "#In our new dataframe some models value counts are same so we are duplicating one record from each model\n",
    "#df[df.place=='Telangana']\n",
    "#df[df.place=='Pondicherry ']\n",
    "#df[df.place=='Dadra & Nagar Haveli ']\n",
    "#df[df.place=='Meghalaya']\n",
    "df=df.drop([227,2047,598,8863,8901])\n",
    "df=df.reset_index().drop('index',axis=1)"
   ]
  },
  {
   "cell_type": "code",
   "execution_count": 140,
   "metadata": {},
   "outputs": [
    {
     "data": {
      "text/html": [
       "<div>\n",
       "<style scoped>\n",
       "    .dataframe tbody tr th:only-of-type {\n",
       "        vertical-align: middle;\n",
       "    }\n",
       "\n",
       "    .dataframe tbody tr th {\n",
       "        vertical-align: top;\n",
       "    }\n",
       "\n",
       "    .dataframe thead th {\n",
       "        text-align: right;\n",
       "    }\n",
       "</style>\n",
       "<table border=\"1\" class=\"dataframe\">\n",
       "  <thead>\n",
       "    <tr style=\"text-align: right;\">\n",
       "      <th></th>\n",
       "      <th>Name</th>\n",
       "      <th>Price</th>\n",
       "      <th>Location</th>\n",
       "      <th>Running</th>\n",
       "      <th>Owner</th>\n",
       "      <th>cc</th>\n",
       "      <th>Year</th>\n",
       "      <th>model</th>\n",
       "      <th>Fourth Owner Or More</th>\n",
       "      <th>Second Owner</th>\n",
       "      <th>Third Owner</th>\n",
       "      <th>bike_model</th>\n",
       "      <th>place</th>\n",
       "    </tr>\n",
       "  </thead>\n",
       "  <tbody>\n",
       "    <tr>\n",
       "      <th>0</th>\n",
       "      <td>TVS Star City Plus Dual Tone 110cc 2018</td>\n",
       "      <td>35000</td>\n",
       "      <td>Ahmedabad</td>\n",
       "      <td>17654</td>\n",
       "      <td>First Owner</td>\n",
       "      <td>110</td>\n",
       "      <td>2018</td>\n",
       "      <td>TVS Star</td>\n",
       "      <td>0</td>\n",
       "      <td>0</td>\n",
       "      <td>0</td>\n",
       "      <td>102</td>\n",
       "      <td>Gujarat</td>\n",
       "    </tr>\n",
       "    <tr>\n",
       "      <th>1</th>\n",
       "      <td>Royal Enfield Classic 350cc 2017</td>\n",
       "      <td>119900</td>\n",
       "      <td>Delhi</td>\n",
       "      <td>11000</td>\n",
       "      <td>First Owner</td>\n",
       "      <td>350</td>\n",
       "      <td>2017</td>\n",
       "      <td>Royal Enfield</td>\n",
       "      <td>0</td>\n",
       "      <td>0</td>\n",
       "      <td>0</td>\n",
       "      <td>4220</td>\n",
       "      <td>Delhi</td>\n",
       "    </tr>\n",
       "    <tr>\n",
       "      <th>2</th>\n",
       "      <td>TVS Apache RTR 180cc 2017</td>\n",
       "      <td>65000</td>\n",
       "      <td>Bangalore</td>\n",
       "      <td>16329</td>\n",
       "      <td>First Owner</td>\n",
       "      <td>180</td>\n",
       "      <td>2017</td>\n",
       "      <td>TVS Apache</td>\n",
       "      <td>0</td>\n",
       "      <td>0</td>\n",
       "      <td>0</td>\n",
       "      <td>1083</td>\n",
       "      <td>Karnataka</td>\n",
       "    </tr>\n",
       "    <tr>\n",
       "      <th>3</th>\n",
       "      <td>Yamaha FZ S V 2.0 150cc-Ltd. Edition 2018</td>\n",
       "      <td>80000</td>\n",
       "      <td>Bangalore</td>\n",
       "      <td>10000</td>\n",
       "      <td>First Owner</td>\n",
       "      <td>150</td>\n",
       "      <td>2018</td>\n",
       "      <td>Yamaha FZ</td>\n",
       "      <td>0</td>\n",
       "      <td>0</td>\n",
       "      <td>0</td>\n",
       "      <td>763</td>\n",
       "      <td>Karnataka</td>\n",
       "    </tr>\n",
       "    <tr>\n",
       "      <th>4</th>\n",
       "      <td>Yamaha FZs 150cc 2015</td>\n",
       "      <td>53499</td>\n",
       "      <td>Delhi</td>\n",
       "      <td>25000</td>\n",
       "      <td>First Owner</td>\n",
       "      <td>150</td>\n",
       "      <td>2015</td>\n",
       "      <td>Yamaha FZs</td>\n",
       "      <td>0</td>\n",
       "      <td>0</td>\n",
       "      <td>0</td>\n",
       "      <td>131</td>\n",
       "      <td>Delhi</td>\n",
       "    </tr>\n",
       "  </tbody>\n",
       "</table>\n",
       "</div>"
      ],
      "text/plain": [
       "                                        Name   Price   Location  Running  \\\n",
       "0    TVS Star City Plus Dual Tone 110cc 2018   35000  Ahmedabad    17654   \n",
       "1           Royal Enfield Classic 350cc 2017  119900      Delhi    11000   \n",
       "2                  TVS Apache RTR 180cc 2017   65000  Bangalore    16329   \n",
       "3  Yamaha FZ S V 2.0 150cc-Ltd. Edition 2018   80000  Bangalore    10000   \n",
       "4                      Yamaha FZs 150cc 2015   53499      Delhi    25000   \n",
       "\n",
       "         Owner   cc  Year          model  Fourth Owner Or More  Second Owner  \\\n",
       "0  First Owner  110  2018       TVS Star                     0             0   \n",
       "1  First Owner  350  2017  Royal Enfield                     0             0   \n",
       "2  First Owner  180  2017     TVS Apache                     0             0   \n",
       "3  First Owner  150  2018      Yamaha FZ                     0             0   \n",
       "4  First Owner  150  2015     Yamaha FZs                     0             0   \n",
       "\n",
       "   Third Owner  bike_model      place  \n",
       "0            0         102    Gujarat  \n",
       "1            0        4220      Delhi  \n",
       "2            0        1083  Karnataka  \n",
       "3            0         763  Karnataka  \n",
       "4            0         131      Delhi  "
      ]
     },
     "execution_count": 140,
     "metadata": {},
     "output_type": "execute_result"
    }
   ],
   "source": [
    "df.head()"
   ]
  },
  {
   "cell_type": "code",
   "execution_count": 141,
   "metadata": {},
   "outputs": [],
   "source": [
    "place_dict=df['place'].value_counts().to_dict()\n",
    "df.drop(['Name','Location','Owner','model'],axis=1,inplace=True)\n",
    "#count/frequency encoding for place column\n",
    "df['Location']=df['place'].map(place_dict)\n",
    "df.drop('place',axis=1,inplace=True)"
   ]
  },
  {
   "cell_type": "code",
   "execution_count": 142,
   "metadata": {},
   "outputs": [
    {
     "data": {
      "text/html": [
       "<div>\n",
       "<style scoped>\n",
       "    .dataframe tbody tr th:only-of-type {\n",
       "        vertical-align: middle;\n",
       "    }\n",
       "\n",
       "    .dataframe tbody tr th {\n",
       "        vertical-align: top;\n",
       "    }\n",
       "\n",
       "    .dataframe thead th {\n",
       "        text-align: right;\n",
       "    }\n",
       "</style>\n",
       "<table border=\"1\" class=\"dataframe\">\n",
       "  <thead>\n",
       "    <tr style=\"text-align: right;\">\n",
       "      <th></th>\n",
       "      <th>Price</th>\n",
       "      <th>Running</th>\n",
       "      <th>cc</th>\n",
       "      <th>Year</th>\n",
       "      <th>Fourth Owner Or More</th>\n",
       "      <th>Second Owner</th>\n",
       "      <th>Third Owner</th>\n",
       "      <th>bike_model</th>\n",
       "      <th>Location</th>\n",
       "    </tr>\n",
       "  </thead>\n",
       "  <tbody>\n",
       "    <tr>\n",
       "      <th>0</th>\n",
       "      <td>35000</td>\n",
       "      <td>17654</td>\n",
       "      <td>110</td>\n",
       "      <td>2018</td>\n",
       "      <td>0</td>\n",
       "      <td>0</td>\n",
       "      <td>0</td>\n",
       "      <td>102</td>\n",
       "      <td>1787</td>\n",
       "    </tr>\n",
       "    <tr>\n",
       "      <th>1</th>\n",
       "      <td>119900</td>\n",
       "      <td>11000</td>\n",
       "      <td>350</td>\n",
       "      <td>2017</td>\n",
       "      <td>0</td>\n",
       "      <td>0</td>\n",
       "      <td>0</td>\n",
       "      <td>4220</td>\n",
       "      <td>7349</td>\n",
       "    </tr>\n",
       "    <tr>\n",
       "      <th>2</th>\n",
       "      <td>65000</td>\n",
       "      <td>16329</td>\n",
       "      <td>180</td>\n",
       "      <td>2017</td>\n",
       "      <td>0</td>\n",
       "      <td>0</td>\n",
       "      <td>0</td>\n",
       "      <td>1083</td>\n",
       "      <td>2801</td>\n",
       "    </tr>\n",
       "    <tr>\n",
       "      <th>3</th>\n",
       "      <td>80000</td>\n",
       "      <td>10000</td>\n",
       "      <td>150</td>\n",
       "      <td>2018</td>\n",
       "      <td>0</td>\n",
       "      <td>0</td>\n",
       "      <td>0</td>\n",
       "      <td>763</td>\n",
       "      <td>2801</td>\n",
       "    </tr>\n",
       "    <tr>\n",
       "      <th>4</th>\n",
       "      <td>53499</td>\n",
       "      <td>25000</td>\n",
       "      <td>150</td>\n",
       "      <td>2015</td>\n",
       "      <td>0</td>\n",
       "      <td>0</td>\n",
       "      <td>0</td>\n",
       "      <td>131</td>\n",
       "      <td>7349</td>\n",
       "    </tr>\n",
       "  </tbody>\n",
       "</table>\n",
       "</div>"
      ],
      "text/plain": [
       "    Price  Running   cc  Year  Fourth Owner Or More  Second Owner  \\\n",
       "0   35000    17654  110  2018                     0             0   \n",
       "1  119900    11000  350  2017                     0             0   \n",
       "2   65000    16329  180  2017                     0             0   \n",
       "3   80000    10000  150  2018                     0             0   \n",
       "4   53499    25000  150  2015                     0             0   \n",
       "\n",
       "   Third Owner  bike_model  Location  \n",
       "0            0         102      1787  \n",
       "1            0        4220      7349  \n",
       "2            0        1083      2801  \n",
       "3            0         763      2801  \n",
       "4            0         131      7349  "
      ]
     },
     "execution_count": 142,
     "metadata": {},
     "output_type": "execute_result"
    }
   ],
   "source": [
    "df.head()"
   ]
  },
  {
   "cell_type": "markdown",
   "metadata": {},
   "source": [
    "\n",
    "# Model creation"
   ]
  },
  {
   "cell_type": "code",
   "execution_count": 143,
   "metadata": {},
   "outputs": [
    {
     "data": {
      "text/plain": [
       "<AxesSubplot:>"
      ]
     },
     "execution_count": 143,
     "metadata": {},
     "output_type": "execute_result"
    },
    {
     "data": {
      "image/png": "[encoded data removed]",
      "text/plain": [
       "<Figure size 1080x720 with 2 Axes>"
      ]
     },
     "metadata": {
      "needs_background": "light"
     },
     "output_type": "display_data"
    }
   ],
   "source": [
    "import seaborn as sns\n",
    "import matplotlib.pyplot as plt\n",
    "plt.figure(figsize=(15,10))\n",
    "sns.heatmap(df.corr(),annot=True)\n",
    "#cc & price have positive correlation\n",
    "#running & price have negative correlation and Running & cc have negative correlation "
   ]
  },
  {
   "cell_type": "code",
   "execution_count": 144,
   "metadata": {},
   "outputs": [],
   "source": [
    "x=df.drop('Price',axis=1)\n",
    "y=df.Price"
   ]
  },
  {
   "cell_type": "code",
   "execution_count": 145,
   "metadata": {},
   "outputs": [
    {
     "data": {
      "text/html": [
       "<div>\n",
       "<style scoped>\n",
       "    .dataframe tbody tr th:only-of-type {\n",
       "        vertical-align: middle;\n",
       "    }\n",
       "\n",
       "    .dataframe tbody tr th {\n",
       "        vertical-align: top;\n",
       "    }\n",
       "\n",
       "    .dataframe thead th {\n",
       "        text-align: right;\n",
       "    }\n",
       "</style>\n",
       "<table border=\"1\" class=\"dataframe\">\n",
       "  <thead>\n",
       "    <tr style=\"text-align: right;\">\n",
       "      <th></th>\n",
       "      <th>Running</th>\n",
       "      <th>cc</th>\n",
       "      <th>Year</th>\n",
       "      <th>Fourth Owner Or More</th>\n",
       "      <th>Second Owner</th>\n",
       "      <th>Third Owner</th>\n",
       "      <th>bike_model</th>\n",
       "      <th>Location</th>\n",
       "    </tr>\n",
       "  </thead>\n",
       "  <tbody>\n",
       "    <tr>\n",
       "      <th>0</th>\n",
       "      <td>17654</td>\n",
       "      <td>110</td>\n",
       "      <td>2018</td>\n",
       "      <td>0</td>\n",
       "      <td>0</td>\n",
       "      <td>0</td>\n",
       "      <td>102</td>\n",
       "      <td>1787</td>\n",
       "    </tr>\n",
       "    <tr>\n",
       "      <th>1</th>\n",
       "      <td>11000</td>\n",
       "      <td>350</td>\n",
       "      <td>2017</td>\n",
       "      <td>0</td>\n",
       "      <td>0</td>\n",
       "      <td>0</td>\n",
       "      <td>4220</td>\n",
       "      <td>7349</td>\n",
       "    </tr>\n",
       "    <tr>\n",
       "      <th>2</th>\n",
       "      <td>16329</td>\n",
       "      <td>180</td>\n",
       "      <td>2017</td>\n",
       "      <td>0</td>\n",
       "      <td>0</td>\n",
       "      <td>0</td>\n",
       "      <td>1083</td>\n",
       "      <td>2801</td>\n",
       "    </tr>\n",
       "    <tr>\n",
       "      <th>3</th>\n",
       "      <td>10000</td>\n",
       "      <td>150</td>\n",
       "      <td>2018</td>\n",
       "      <td>0</td>\n",
       "      <td>0</td>\n",
       "      <td>0</td>\n",
       "      <td>763</td>\n",
       "      <td>2801</td>\n",
       "    </tr>\n",
       "    <tr>\n",
       "      <th>4</th>\n",
       "      <td>25000</td>\n",
       "      <td>150</td>\n",
       "      <td>2015</td>\n",
       "      <td>0</td>\n",
       "      <td>0</td>\n",
       "      <td>0</td>\n",
       "      <td>131</td>\n",
       "      <td>7349</td>\n",
       "    </tr>\n",
       "  </tbody>\n",
       "</table>\n",
       "</div>"
      ],
      "text/plain": [
       "   Running   cc  Year  Fourth Owner Or More  Second Owner  Third Owner  \\\n",
       "0    17654  110  2018                     0             0            0   \n",
       "1    11000  350  2017                     0             0            0   \n",
       "2    16329  180  2017                     0             0            0   \n",
       "3    10000  150  2018                     0             0            0   \n",
       "4    25000  150  2015                     0             0            0   \n",
       "\n",
       "   bike_model  Location  \n",
       "0         102      1787  \n",
       "1        4220      7349  \n",
       "2        1083      2801  \n",
       "3         763      2801  \n",
       "4         131      7349  "
      ]
     },
     "execution_count": 145,
     "metadata": {},
     "output_type": "execute_result"
    }
   ],
   "source": [
    "x.head()"
   ]
  },
  {
   "cell_type": "code",
   "execution_count": 146,
   "metadata": {},
   "outputs": [],
   "source": [
    "from sklearn.model_selection import train_test_split"
   ]
  },
  {
   "cell_type": "code",
   "execution_count": 147,
   "metadata": {},
   "outputs": [],
   "source": [
    "x_train,x_test,y_train,y_test=train_test_split(x,y,test_size=0.3,random_state=3)"
   ]
  },
  {
   "cell_type": "code",
   "execution_count": 148,
   "metadata": {},
   "outputs": [],
   "source": [
    "from xgboost import XGBRegressor\n",
    "xgb_reg=XGBRegressor()\n",
    "from sklearn.ensemble import RandomForestRegressor\n",
    "rfr=RandomForestRegressor()\n",
    "from sklearn.tree import DecisionTreeRegressor\n",
    "dtr=DecisionTreeRegressor()\n"
   ]
  },
  {
   "cell_type": "code",
   "execution_count": 149,
   "metadata": {},
   "outputs": [],
   "source": [
    "regressors = {\n",
    "    \"xgboost\": XGBRegressor(),\n",
    "    \"Random forest\": RandomForestRegressor(),\n",
    "    \"DecisionTree\": DecisionTreeRegressor()\n",
    "}"
   ]
  },
  {
   "cell_type": "code",
   "execution_count": 150,
   "metadata": {},
   "outputs": [
    {
     "data": {
      "text/plain": [
       "XGBRegressor(base_score=None, booster=None, colsample_bylevel=None,\n",
       "             colsample_bynode=None, colsample_bytree=None, gamma=None,\n",
       "             gpu_id=None, importance_type='gain', interaction_constraints=None,\n",
       "             learning_rate=None, max_delta_step=None, max_depth=None,\n",
       "             min_child_weight=None, missing=nan, monotone_constraints=None,\n",
       "             n_estimators=100, n_jobs=None, num_parallel_tree=None,\n",
       "             objective='reg:squarederror', random_state=None, reg_alpha=None,\n",
       "             reg_lambda=None, scale_pos_weight=None, subsample=None,\n",
       "             tree_method=None, validate_parameters=None, verbosity=None)"
      ]
     },
     "execution_count": 150,
     "metadata": {},
     "output_type": "execute_result"
    }
   ],
   "source": [
    "XGBRegressor()"
   ]
  },
  {
   "cell_type": "code",
   "execution_count": 151,
   "metadata": {},
   "outputs": [
    {
     "name": "stdout",
     "output_type": "stream",
     "text": [
      "XGBRegressor(base_score=0.5, booster='gbtree', colsample_bylevel=1,\n",
      "             colsample_bynode=1, colsample_bytree=1, gamma=0, gpu_id=-1,\n",
      "             importance_type='gain', interaction_constraints='',\n",
      "             learning_rate=0.300000012, max_delta_step=0, max_depth=6,\n",
      "             min_child_weight=1, missing=nan, monotone_constraints='()',\n",
      "             n_estimators=100, n_jobs=0, num_parallel_tree=1,\n",
      "             objective='reg:squarederror', random_state=0, reg_alpha=0,\n",
      "             reg_lambda=1, scale_pos_weight=1, subsample=1, tree_method='exact',\n",
      "             validate_parameters=1, verbosity=None)\n",
      "xgboost Has a training score of 97.7\n",
      "RandomForestRegressor(bootstrap=True, ccp_alpha=0.0, criterion='mse',\n",
      "                      max_depth=None, max_features='auto', max_leaf_nodes=None,\n",
      "                      max_samples=None, min_impurity_decrease=0.0,\n",
      "                      min_impurity_split=None, min_samples_leaf=1,\n",
      "                      min_samples_split=2, min_weight_fraction_leaf=0.0,\n",
      "                      n_estimators=100, n_jobs=None, oob_score=False,\n",
      "                      random_state=None, verbose=0, warm_start=False)\n",
      "Random forest Has a training score of 97.03\n",
      "DecisionTreeRegressor(ccp_alpha=0.0, criterion='mse', max_depth=None,\n",
      "                      max_features=None, max_leaf_nodes=None,\n",
      "                      min_impurity_decrease=0.0, min_impurity_split=None,\n",
      "                      min_samples_leaf=1, min_samples_split=2,\n",
      "                      min_weight_fraction_leaf=0.0, presort='deprecated',\n",
      "                      random_state=None, splitter='best')\n",
      "DecisionTree Has a training score of 96.32\n"
     ]
    }
   ],
   "source": [
    "from sklearn.model_selection import cross_val_score\n",
    "for key, regressors in regressors.items():\n",
    "    clf=regressors.fit(x_train, y_train)\n",
    "    print(clf)\n",
    "    training_score = clf.score(x_test, y_test)\n",
    "    print(key, \"Has a training score of\", round(training_score* 100,2))"
   ]
  },
  {
   "cell_type": "code",
   "execution_count": 168,
   "metadata": {},
   "outputs": [
    {
     "name": "stdout",
     "output_type": "stream",
     "text": [
      "Fitting 5 folds for each of 640 candidates, totalling 3200 fits\n"
     ]
    },
    {
     "name": "stderr",
     "output_type": "stream",
     "text": [
      "[Parallel(n_jobs=-1)]: Using backend LokyBackend with 8 concurrent workers.\n",
      "[Parallel(n_jobs=-1)]: Done  25 tasks      | elapsed:   15.7s\n",
      "[Parallel(n_jobs=-1)]: Done 146 tasks      | elapsed:  1.3min\n",
      "[Parallel(n_jobs=-1)]: Done 349 tasks      | elapsed:  3.0min\n",
      "[Parallel(n_jobs=-1)]: Done 632 tasks      | elapsed:  3.7min\n",
      "[Parallel(n_jobs=-1)]: Done 997 tasks      | elapsed:  5.7min\n",
      "[Parallel(n_jobs=-1)]: Done 1442 tasks      | elapsed:  7.7min\n",
      "[Parallel(n_jobs=-1)]: Done 1969 tasks      | elapsed: 11.0min\n",
      "[Parallel(n_jobs=-1)]: Done 2576 tasks      | elapsed: 13.2min\n",
      "[Parallel(n_jobs=-1)]: Done 3200 out of 3200 | elapsed: 15.6min finished\n"
     ]
    }
   ],
   "source": [
    "#gridCV for XGBoost\n",
    "from sklearn.model_selection import GridSearchCV\n",
    "xgb_params={'n_estimators':[75,100,125,150,200],'learning_rate':[0.05,0.1,0.15,0.2],\n",
    "             'booster':['gbtree','gblinear'],'base_score':[0.25,0.5,0.75,1] ,'min_child_weight':[1,2,3,4]}\n",
    "xgb_grid=GridSearchCV(XGBRegressor(),xgb_params,cv=5,n_jobs=-1,verbose=2,return_train_score=True)\n",
    "xgb_grid.fit(x_train,y_train)\n",
    "xgb_bp=xgb_grid.best_params_"
   ]
  },
  {
   "cell_type": "code",
   "execution_count": 189,
   "metadata": {},
   "outputs": [
    {
     "name": "stdout",
     "output_type": "stream",
     "text": [
      "{'base_score': 0.25, 'booster': 'gbtree', 'learning_rate': 0.1, 'min_child_weight': 2, 'n_estimators': 200}\n"
     ]
    },
    {
     "data": {
      "text/plain": [
       "0.9413033582177164"
      ]
     },
     "execution_count": 189,
     "metadata": {},
     "output_type": "execute_result"
    }
   ],
   "source": [
    "print(xgb_bp)\n"
   ]
  },
  {
   "cell_type": "code",
   "execution_count": 72,
   "metadata": {},
   "outputs": [],
   "source": [
    "xgb_bp={'base_score': 0.25, 'booster': 'gbtree', 'learning_rate': 0.1, 'min_child_weight': 2, 'n_estimators': 200}"
   ]
  },
  {
   "cell_type": "code",
   "execution_count": 73,
   "metadata": {},
   "outputs": [
    {
     "data": {
      "text/plain": [
       "0.9413033582177164"
      ]
     },
     "execution_count": 73,
     "metadata": {},
     "output_type": "execute_result"
    }
   ],
   "source": [
    "xgb=XGBRegressor(**xgb_bp)\n",
    "xgb.fit(x_train,y_train)\n",
    "xgb.score(x_test,y_test)"
   ]
  },
  {
   "cell_type": "code",
   "execution_count": 181,
   "metadata": {},
   "outputs": [
    {
     "data": {
      "text/plain": [
       "XGBRegressor(base_score=0.25, booster='gbtree', colsample_bylevel=1,\n",
       "             colsample_bynode=1, colsample_bytree=1, gamma=0, gpu_id=-1,\n",
       "             importance_type='gain', interaction_constraints='',\n",
       "             learning_rate=0.1, max_delta_step=0, max_depth=6,\n",
       "             min_child_weight=2, missing=nan, monotone_constraints='()',\n",
       "             n_estimators=200, n_jobs=0, num_parallel_tree=1,\n",
       "             objective='reg:squarederror', random_state=0, reg_alpha=0,\n",
       "             reg_lambda=1, scale_pos_weight=1, subsample=1, tree_method='exact',\n",
       "             validate_parameters=1, verbosity=None)"
      ]
     },
     "execution_count": 181,
     "metadata": {},
     "output_type": "execute_result"
    }
   ],
   "source": [
    "xgb_grid.best_estimator_"
   ]
  },
  {
   "cell_type": "code",
   "execution_count": null,
   "metadata": {},
   "outputs": [],
   "source": []
  },
  {
   "cell_type": "code",
   "execution_count": null,
   "metadata": {},
   "outputs": [
    {
     "name": "stdout",
     "output_type": "stream",
     "text": [
      "Fitting 5 folds for each of 108 candidates, totalling 540 fits\n"
     ]
    },
    {
     "name": "stderr",
     "output_type": "stream",
     "text": [
      "[Parallel(n_jobs=-1)]: Using backend LokyBackend with 8 concurrent workers.\n",
      "[Parallel(n_jobs=-1)]: Done  25 tasks      | elapsed:   21.8s\n",
      "[Parallel(n_jobs=-1)]: Done 146 tasks      | elapsed:  1.6min\n"
     ]
    }
   ],
   "source": [
    "#gridCV for Random forest\n",
    "from sklearn.model_selection import GridSearchCV\n",
    "rf_params={\n",
    "    \"n_estimators\" : [90,100,115],\n",
    "    'criterion': [\"mse\", \"mae\"],\n",
    "    'min_samples_leaf' : [1,3,5],\n",
    "    'min_samples_split': [4,6,8],\n",
    "    'max_features' : ['auto','log2']\n",
    "}\n",
    "rf_grid=GridSearchCV(estimator=RandomForestRegressor(),param_grid=rf_params,cv=5,n_jobs=-1,verbose=2,return_train_score=True)\n",
    "rf_grid.fit(x_train,y_train)\n",
    "rf_bp=rf_grid.best_params_\n",
    "print(rf_bp)"
   ]
  },
  {
   "cell_type": "code",
   "execution_count": null,
   "metadata": {},
   "outputs": [],
   "source": [
    "rf=RandomForestRegressor(**rf_bp)\n",
    "rf.fit(x_train,y_train)\n",
    "rf.score(x_test,y_test)"
   ]
  },
  {
   "cell_type": "code",
   "execution_count": null,
   "metadata": {},
   "outputs": [],
   "source": []
  },
  {
   "cell_type": "code",
   "execution_count": 66,
   "metadata": {},
   "outputs": [
    {
     "name": "stdout",
     "output_type": "stream",
     "text": [
      "Fitting 5 folds for each of 1200 candidates, totalling 6000 fits\n"
     ]
    },
    {
     "name": "stderr",
     "output_type": "stream",
     "text": [
      "[Parallel(n_jobs=-1)]: Using backend LokyBackend with 8 concurrent workers.\n",
      "[Parallel(n_jobs=-1)]: Done  25 tasks      | elapsed:    3.1s\n",
      "[Parallel(n_jobs=-1)]: Done 228 tasks      | elapsed:    4.7s\n",
      "[Parallel(n_jobs=-1)]: Done 634 tasks      | elapsed:    8.4s\n",
      "[Parallel(n_jobs=-1)]: Done 1200 tasks      | elapsed:   14.6s\n",
      "[Parallel(n_jobs=-1)]: Done 1930 tasks      | elapsed:   23.4s\n",
      "[Parallel(n_jobs=-1)]: Done 2820 tasks      | elapsed:   34.2s\n",
      "[Parallel(n_jobs=-1)]: Done 3457 tasks      | elapsed: 10.9min\n",
      "[Parallel(n_jobs=-1)]: Done 4064 tasks      | elapsed: 28.3min\n",
      "[Parallel(n_jobs=-1)]: Done 4753 tasks      | elapsed: 49.2min\n",
      "[Parallel(n_jobs=-1)]: Done 5522 tasks      | elapsed: 72.0min\n"
     ]
    },
    {
     "name": "stdout",
     "output_type": "stream",
     "text": [
      "{'criterion': 'mse', 'max_depth': 22, 'min_samples_leaf': 1, 'min_samples_split': 2, 'splitter': 'best'}\n"
     ]
    },
    {
     "name": "stderr",
     "output_type": "stream",
     "text": [
      "[Parallel(n_jobs=-1)]: Done 6000 out of 6000 | elapsed: 85.6min finished\n"
     ]
    }
   ],
   "source": [
    "#gridCV for Decision Tree\n",
    "from sklearn.model_selection import GridSearchCV\n",
    "dt_params={\n",
    "    'criterion': [\"mse\", \"mae\"],\n",
    "    'max_depth' : range(2,32,2),\n",
    "    'min_samples_leaf' : range(1,10,2),\n",
    "    'min_samples_split': range(2,10,2),\n",
    "    'splitter' : ['best', 'random']\n",
    "    \n",
    "}\n",
    "dt_grid=GridSearchCV(estimator=DecisionTreeRegressor(),param_grid=dt_params,cv=5,n_jobs=-1,verbose=2,return_train_score=True)\n",
    "dt_grid.fit(x_train,y_train)\n",
    "dt_bp=dt_grid.best_params_\n",
    "print(dt_bp)"
   ]
  },
  {
   "cell_type": "code",
   "execution_count": 70,
   "metadata": {},
   "outputs": [],
   "source": [
    "dt_bp={'criterion': 'mse', 'max_depth': 22, 'min_samples_leaf': 1, 'min_samples_split': 2, 'splitter': 'best'}"
   ]
  },
  {
   "cell_type": "code",
   "execution_count": 71,
   "metadata": {},
   "outputs": [
    {
     "data": {
      "text/plain": [
       "0.9538462996725031"
      ]
     },
     "execution_count": 71,
     "metadata": {},
     "output_type": "execute_result"
    }
   ],
   "source": [
    "dt=DecisionTreeRegressor(**dt_bp)\n",
    "dt.fit(x_train,y_train)\n",
    "dt.score(x_test,y_test)"
   ]
  },
  {
   "cell_type": "code",
   "execution_count": null,
   "metadata": {},
   "outputs": [],
   "source": []
  },
  {
   "cell_type": "code",
   "execution_count": 74,
   "metadata": {},
   "outputs": [],
   "source": [
    "regs = {\n",
    "    \"XGBoost\": xgb,\n",
    "    \"DecisionTree\": dt\n",
    "}"
   ]
  },
  {
   "cell_type": "code",
   "execution_count": 75,
   "metadata": {},
   "outputs": [
    {
     "name": "stdout",
     "output_type": "stream",
     "text": [
      "---------- XGBoost ----------\n",
      "R^2: 0.9413033582177164\n",
      "Adjusted R^2: 0.941257434194806\n",
      "MAE: 3755.734391174257\n",
      "MSE: 368209316.4865705\n",
      "RMSE: 19188.7810057484\n",
      "---------- DecisionTree ----------\n",
      "R^2: 0.9538462996725031\n",
      "Adjusted R^2: 0.9538101891979193\n",
      "MAE: 3013.575052662824\n",
      "MSE: 289526315.8997793\n",
      "RMSE: 17015.472837972484\n"
     ]
    }
   ],
   "source": [
    "# Model Evaluation\n",
    "from sklearn import metrics\n",
    "for model,reg in regs.items():\n",
    "#for key, regressors in regressors.items():\n",
    "    y_pred=reg.predict(x_test)\n",
    "    acc_rf = metrics.r2_score(y_test, y_pred)\n",
    "    \n",
    "    print('-'*10,model,'-'*10)\n",
    "    print('R^2:', acc_rf)\n",
    "    print('Adjusted R^2:',1 - (1-metrics.r2_score(y_test, y_pred))*(len(y_test)-1)/(len(y_test)-x_test.shape[1]-1))\n",
    "    print('MAE:',metrics.mean_absolute_error(y_test, y_pred))\n",
    "    print('MSE:',metrics.mean_squared_error(y_test, y_pred))\n",
    "    print('RMSE:',np.sqrt(metrics.mean_squared_error(y_test, y_pred)))"
   ]
  },
  {
   "cell_type": "code",
   "execution_count": null,
   "metadata": {},
   "outputs": [],
   "source": []
  },
  {
   "cell_type": "code",
   "execution_count": 191,
   "metadata": {},
   "outputs": [],
   "source": [
    "import pickle\n",
    "#Creating a file\n",
    "file=open('used_bike.pkl','wb')\n",
    "\n",
    "#Dump model to the file\n",
    "pickle.dump(xgb,file)"
   ]
  },
  {
   "cell_type": "code",
   "execution_count": null,
   "metadata": {},
   "outputs": [],
   "source": []
  },
  {
   "cell_type": "code",
   "execution_count": 83,
   "metadata": {},
   "outputs": [
    {
     "data": {
      "text/plain": [
       "Index(['Price', 'Running', 'cc', 'Year', 'Fourth Owner Or More',\n",
       "       'Second Owner', 'Third Owner', 'bike_model', 'Location'],\n",
       "      dtype='object')"
      ]
     },
     "execution_count": 83,
     "metadata": {},
     "output_type": "execute_result"
    }
   ],
   "source": [
    "df.columns"
   ]
  },
  {
   "cell_type": "code",
   "execution_count": 82,
   "metadata": {},
   "outputs": [
    {
     "data": {
      "text/plain": [
       "Index(['Running', 'cc', 'Year', 'Fourth Owner Or More', 'Second Owner',\n",
       "       'Third Owner', 'bike_model', 'Location'],\n",
       "      dtype='object')"
      ]
     },
     "execution_count": 82,
     "metadata": {},
     "output_type": "execute_result"
    }
   ],
   "source": [
    "x.columns"
   ]
  },
  {
   "cell_type": "code",
   "execution_count": 76,
   "metadata": {},
   "outputs": [],
   "source": [
    "import pickle"
   ]
  },
  {
   "cell_type": "code",
   "execution_count": 78,
   "metadata": {},
   "outputs": [],
   "source": [
    "final_model=pickle.load(open('used_bike.pkl','rb'))"
   ]
  },
  {
   "cell_type": "code",
   "execution_count": 153,
   "metadata": {},
   "outputs": [
    {
     "data": {
      "text/plain": [
       "array([89181.9], dtype=float32)"
      ]
     },
     "execution_count": 153,
     "metadata": {},
     "output_type": "execute_result"
    }
   ],
   "source": [
    "#NOTE: The XGBoost Regressor does not take input in the form of list.\n",
    "#So we need to convert the input data either into DMatrix or pandas dataframe.\n",
    "#input_variables = pd.DataFrame([[15000,150,2015,0,0,1,176,7345]],\n",
    "input_variables = pd.DataFrame([[11000,500,2011,0,0,0,4222,7349]],\n",
    "        columns=['Running','cc','Year','Fourth Owner Or More','Second Owner','Third Owner','bike_model','Location'],\n",
    "        dtype=float)\n",
    "my_prediction=final_model.predict(input_variables)\n",
    "my_prediction"
   ]
  },
  {
   "cell_type": "code",
   "execution_count": 85,
   "metadata": {},
   "outputs": [
    {
     "data": {
      "text/plain": [
       "0.9413033582177164"
      ]
     },
     "execution_count": 85,
     "metadata": {},
     "output_type": "execute_result"
    }
   ],
   "source": [
    "final_model.score(x_test,y_test)"
   ]
  },
  {
   "cell_type": "code",
   "execution_count": 86,
   "metadata": {},
   "outputs": [
    {
     "data": {
      "text/html": [
       "<div>\n",
       "<style scoped>\n",
       "    .dataframe tbody tr th:only-of-type {\n",
       "        vertical-align: middle;\n",
       "    }\n",
       "\n",
       "    .dataframe tbody tr th {\n",
       "        vertical-align: top;\n",
       "    }\n",
       "\n",
       "    .dataframe thead th {\n",
       "        text-align: right;\n",
       "    }\n",
       "</style>\n",
       "<table border=\"1\" class=\"dataframe\">\n",
       "  <thead>\n",
       "    <tr style=\"text-align: right;\">\n",
       "      <th></th>\n",
       "      <th>Name</th>\n",
       "      <th>Price</th>\n",
       "      <th>Location</th>\n",
       "      <th>Running</th>\n",
       "      <th>Owner</th>\n",
       "      <th>cc</th>\n",
       "      <th>Year</th>\n",
       "      <th>model</th>\n",
       "      <th>Fourth Owner Or More</th>\n",
       "      <th>Second Owner</th>\n",
       "      <th>Third Owner</th>\n",
       "      <th>bike_model</th>\n",
       "    </tr>\n",
       "  </thead>\n",
       "  <tbody>\n",
       "    <tr>\n",
       "      <th>0</th>\n",
       "      <td>TVS Star City Plus Dual Tone 110cc 2018</td>\n",
       "      <td>35000</td>\n",
       "      <td>Ahmedabad</td>\n",
       "      <td>17654</td>\n",
       "      <td>First Owner</td>\n",
       "      <td>110</td>\n",
       "      <td>2018</td>\n",
       "      <td>TVS Star</td>\n",
       "      <td>0</td>\n",
       "      <td>0</td>\n",
       "      <td>0</td>\n",
       "      <td>102</td>\n",
       "    </tr>\n",
       "    <tr>\n",
       "      <th>1</th>\n",
       "      <td>Royal Enfield Classic 350cc 2017</td>\n",
       "      <td>119900</td>\n",
       "      <td>Delhi</td>\n",
       "      <td>11000</td>\n",
       "      <td>First Owner</td>\n",
       "      <td>350</td>\n",
       "      <td>2017</td>\n",
       "      <td>Royal Enfield</td>\n",
       "      <td>0</td>\n",
       "      <td>0</td>\n",
       "      <td>0</td>\n",
       "      <td>4220</td>\n",
       "    </tr>\n",
       "    <tr>\n",
       "      <th>2</th>\n",
       "      <td>TVS Apache RTR 180cc 2017</td>\n",
       "      <td>65000</td>\n",
       "      <td>Bangalore</td>\n",
       "      <td>16329</td>\n",
       "      <td>First Owner</td>\n",
       "      <td>180</td>\n",
       "      <td>2017</td>\n",
       "      <td>TVS Apache</td>\n",
       "      <td>0</td>\n",
       "      <td>0</td>\n",
       "      <td>0</td>\n",
       "      <td>1083</td>\n",
       "    </tr>\n",
       "    <tr>\n",
       "      <th>3</th>\n",
       "      <td>Yamaha FZ S V 2.0 150cc-Ltd. Edition 2018</td>\n",
       "      <td>80000</td>\n",
       "      <td>Bangalore</td>\n",
       "      <td>10000</td>\n",
       "      <td>First Owner</td>\n",
       "      <td>150</td>\n",
       "      <td>2018</td>\n",
       "      <td>Yamaha FZ</td>\n",
       "      <td>0</td>\n",
       "      <td>0</td>\n",
       "      <td>0</td>\n",
       "      <td>763</td>\n",
       "    </tr>\n",
       "    <tr>\n",
       "      <th>4</th>\n",
       "      <td>Yamaha FZs 150cc 2015</td>\n",
       "      <td>53499</td>\n",
       "      <td>Delhi</td>\n",
       "      <td>25000</td>\n",
       "      <td>First Owner</td>\n",
       "      <td>150</td>\n",
       "      <td>2015</td>\n",
       "      <td>Yamaha FZs</td>\n",
       "      <td>0</td>\n",
       "      <td>0</td>\n",
       "      <td>0</td>\n",
       "      <td>131</td>\n",
       "    </tr>\n",
       "    <tr>\n",
       "      <th>...</th>\n",
       "      <td>...</td>\n",
       "      <td>...</td>\n",
       "      <td>...</td>\n",
       "      <td>...</td>\n",
       "      <td>...</td>\n",
       "      <td>...</td>\n",
       "      <td>...</td>\n",
       "      <td>...</td>\n",
       "      <td>...</td>\n",
       "      <td>...</td>\n",
       "      <td>...</td>\n",
       "      <td>...</td>\n",
       "    </tr>\n",
       "    <tr>\n",
       "      <th>34113</th>\n",
       "      <td>Bajaj Pulsar 150cc 2008</td>\n",
       "      <td>22000</td>\n",
       "      <td>Pune</td>\n",
       "      <td>60857</td>\n",
       "      <td>First Owner</td>\n",
       "      <td>150</td>\n",
       "      <td>2008</td>\n",
       "      <td>Bajaj Pulsar</td>\n",
       "      <td>0</td>\n",
       "      <td>0</td>\n",
       "      <td>0</td>\n",
       "      <td>4222</td>\n",
       "    </tr>\n",
       "    <tr>\n",
       "      <th>34114</th>\n",
       "      <td>TVS Sport Electric Start 2017</td>\n",
       "      <td>37000</td>\n",
       "      <td>Dehradun</td>\n",
       "      <td>7337</td>\n",
       "      <td>First Owner</td>\n",
       "      <td>201</td>\n",
       "      <td>2017</td>\n",
       "      <td>TVS Sport</td>\n",
       "      <td>0</td>\n",
       "      <td>0</td>\n",
       "      <td>0</td>\n",
       "      <td>69</td>\n",
       "    </tr>\n",
       "    <tr>\n",
       "      <th>34115</th>\n",
       "      <td>Hero Xtreme 200R 2018</td>\n",
       "      <td>72000</td>\n",
       "      <td>Mumbai</td>\n",
       "      <td>3490</td>\n",
       "      <td>First Owner</td>\n",
       "      <td>200</td>\n",
       "      <td>2018</td>\n",
       "      <td>Hero Xtreme</td>\n",
       "      <td>0</td>\n",
       "      <td>0</td>\n",
       "      <td>0</td>\n",
       "      <td>36</td>\n",
       "    </tr>\n",
       "    <tr>\n",
       "      <th>34116</th>\n",
       "      <td>Harley-Davidson Iron 883 2014</td>\n",
       "      <td>435000</td>\n",
       "      <td>Jaipur</td>\n",
       "      <td>5550</td>\n",
       "      <td>Second Owner</td>\n",
       "      <td>883</td>\n",
       "      <td>2014</td>\n",
       "      <td>Harley-Davidson Iron</td>\n",
       "      <td>0</td>\n",
       "      <td>1</td>\n",
       "      <td>0</td>\n",
       "      <td>30</td>\n",
       "    </tr>\n",
       "    <tr>\n",
       "      <th>34117</th>\n",
       "      <td>Yamaha FZS FI 150cc 2017</td>\n",
       "      <td>48600</td>\n",
       "      <td>Ludhiana</td>\n",
       "      <td>20559</td>\n",
       "      <td>First Owner</td>\n",
       "      <td>150</td>\n",
       "      <td>2017</td>\n",
       "      <td>Yamaha FZS</td>\n",
       "      <td>0</td>\n",
       "      <td>0</td>\n",
       "      <td>0</td>\n",
       "      <td>16</td>\n",
       "    </tr>\n",
       "  </tbody>\n",
       "</table>\n",
       "<p>34118 rows × 12 columns</p>\n",
       "</div>"
      ],
      "text/plain": [
       "                                            Name   Price   Location  Running  \\\n",
       "0        TVS Star City Plus Dual Tone 110cc 2018   35000  Ahmedabad    17654   \n",
       "1               Royal Enfield Classic 350cc 2017  119900      Delhi    11000   \n",
       "2                      TVS Apache RTR 180cc 2017   65000  Bangalore    16329   \n",
       "3      Yamaha FZ S V 2.0 150cc-Ltd. Edition 2018   80000  Bangalore    10000   \n",
       "4                          Yamaha FZs 150cc 2015   53499      Delhi    25000   \n",
       "...                                          ...     ...        ...      ...   \n",
       "34113                    Bajaj Pulsar 150cc 2008   22000       Pune    60857   \n",
       "34114              TVS Sport Electric Start 2017   37000   Dehradun     7337   \n",
       "34115                      Hero Xtreme 200R 2018   72000     Mumbai     3490   \n",
       "34116              Harley-Davidson Iron 883 2014  435000     Jaipur     5550   \n",
       "34117                   Yamaha FZS FI 150cc 2017   48600   Ludhiana    20559   \n",
       "\n",
       "              Owner   cc  Year                 model  Fourth Owner Or More  \\\n",
       "0       First Owner  110  2018              TVS Star                     0   \n",
       "1       First Owner  350  2017         Royal Enfield                     0   \n",
       "2       First Owner  180  2017            TVS Apache                     0   \n",
       "3       First Owner  150  2018             Yamaha FZ                     0   \n",
       "4       First Owner  150  2015            Yamaha FZs                     0   \n",
       "...             ...  ...   ...                   ...                   ...   \n",
       "34113   First Owner  150  2008          Bajaj Pulsar                     0   \n",
       "34114   First Owner  201  2017             TVS Sport                     0   \n",
       "34115   First Owner  200  2018           Hero Xtreme                     0   \n",
       "34116  Second Owner  883  2014  Harley-Davidson Iron                     0   \n",
       "34117   First Owner  150  2017            Yamaha FZS                     0   \n",
       "\n",
       "       Second Owner  Third Owner  bike_model  \n",
       "0                 0            0         102  \n",
       "1                 0            0        4220  \n",
       "2                 0            0        1083  \n",
       "3                 0            0         763  \n",
       "4                 0            0         131  \n",
       "...             ...          ...         ...  \n",
       "34113             0            0        4222  \n",
       "34114             0            0          69  \n",
       "34115             0            0          36  \n",
       "34116             1            0          30  \n",
       "34117             0            0          16  \n",
       "\n",
       "[34118 rows x 12 columns]"
      ]
     },
     "execution_count": 86,
     "metadata": {},
     "output_type": "execute_result"
    }
   ],
   "source": [
    "temp"
   ]
  },
  {
   "cell_type": "code",
   "execution_count": 87,
   "metadata": {},
   "outputs": [
    {
     "data": {
      "text/plain": [
       "{'Bajaj Avenger': 4857,\n",
       " 'Bajaj Pulsar': 4222,\n",
       " 'Royal Enfield': 4220,\n",
       " 'Hero Passion': 2867,\n",
       " 'Honda CB': 1765,\n",
       " 'Yamaha Fazer': 1299,\n",
       " 'TVS Apache': 1083,\n",
       " 'Yamaha YZF-R15': 924,\n",
       " 'KTM RC': 839,\n",
       " 'Yamaha FZ': 763,\n",
       " 'Bajaj Platina': 739,\n",
       " 'Bajaj Dominar': 729,\n",
       " 'Harley-Davidson Street': 724,\n",
       " 'Hero CD': 708,\n",
       " 'Hero CBZ': 705,\n",
       " 'Hero Hunk': 660,\n",
       " 'Hero Super': 655,\n",
       " 'Hyosung GT250R': 646,\n",
       " 'TVS Victor': 622,\n",
       " 'Suzuki Slingshot': 617,\n",
       " 'Yamaha SZ-RR': 613,\n",
       " 'Suzuki Zeus': 608,\n",
       " 'Hero Splendor': 430,\n",
       " 'Bajaj Discover': 397,\n",
       " 'KTM Duke': 261,\n",
       " 'Suzuki Gixxer': 176,\n",
       " 'Bajaj V15': 161,\n",
       " 'Honda CBR': 151,\n",
       " 'Hero HF': 137,\n",
       " 'Yamaha FZs': 131,\n",
       " 'UM Renegade': 128,\n",
       " 'Bajaj CT': 107,\n",
       " 'TVS Star': 102,\n",
       " 'Hero Karizma': 99,\n",
       " 'Honda CBF': 79,\n",
       " 'TVS Sport': 69,\n",
       " 'Honda Dream': 68,\n",
       " 'Hero Glamour': 56,\n",
       " 'Yamaha FZ16': 53,\n",
       " 'Benelli TNT': 50,\n",
       " 'Kawasaki Ninja': 48,\n",
       " 'Yamaha FZ25': 46,\n",
       " 'Honda Livo': 45,\n",
       " 'Suzuki Intruder': 42,\n",
       " 'Hero Ignitor': 40,\n",
       " 'Hero Xtreme': 36,\n",
       " 'Yamaha SZR': 35,\n",
       " 'Mahindra Centuro': 32,\n",
       " 'Harley-Davidson Iron': 30,\n",
       " 'Royal Enfield\\u200e': 29,\n",
       " 'Bajaj ': 26,\n",
       " 'Hero Honda': 25,\n",
       " 'Mahindra Mojo': 24,\n",
       " 'Bajaj V12': 21,\n",
       " 'Hyosung Aquila': 20,\n",
       " 'Honda CD': 18,\n",
       " 'Yamaha FZS': 16,\n",
       " 'Harley-Davidson Fat': 15,\n",
       " 'Hyosung GT650R': 14,\n",
       " 'Triumph Street': 13,\n",
       " 'BMW G': 12,\n",
       " 'Yamaha Saluto': 11}"
      ]
     },
     "execution_count": 87,
     "metadata": {},
     "output_type": "execute_result"
    }
   ],
   "source": [
    "model_dict"
   ]
  },
  {
   "cell_type": "code",
   "execution_count": 88,
   "metadata": {},
   "outputs": [
    {
     "data": {
      "text/plain": [
       "{'Delhi': 7349,\n",
       " 'Uttar Pradesh': 6726,\n",
       " 'Maharashtra': 4602,\n",
       " 'Karnataka': 2801,\n",
       " 'Tamil Nadu': 2366,\n",
       " 'Rajasthan': 2311,\n",
       " 'Haryana': 1946,\n",
       " 'Gujarat': 1787,\n",
       " 'West Bengal': 863,\n",
       " 'Punjab': 848,\n",
       " 'Madhya Pradesh': 736,\n",
       " 'Andhra Pradesh': 669,\n",
       " 'Kerala': 659,\n",
       " 'Bihar': 74,\n",
       " 'Orissa': 68,\n",
       " 'Uttaranchal': 61,\n",
       " 'Chandigarh ': 47,\n",
       " 'Assam': 46,\n",
       " 'Jharkhand': 31,\n",
       " 'Chhattisgarh': 26,\n",
       " 'Himachal Pradesh': 22,\n",
       " 'Jammu & Kashmir': 15,\n",
       " 'Tripura': 14,\n",
       " 'Telangana': 13,\n",
       " 'Uttarakhand': 10,\n",
       " 'Goa': 9,\n",
       " 'Pondicherry ': 8,\n",
       " 'Sikkim': 3,\n",
       " 'Odisha': 2,\n",
       " 'Arunachal Pradesh': 1}"
      ]
     },
     "execution_count": 88,
     "metadata": {},
     "output_type": "execute_result"
    }
   ],
   "source": [
    "place_dict"
   ]
  }
 ],
 "metadata": {
  "kernelspec": {
   "display_name": "Python 3",
   "language": "python",
   "name": "python3"
  },
  "language_info": {
   "codemirror_mode": {
    "name": "ipython",
    "version": 3
   },
   "file_extension": ".py",
   "mimetype": "text/x-python",
   "name": "python",
   "nbconvert_exporter": "python",
   "pygments_lexer": "ipython3",
   "version": "3.8.8"
  }
 },
 "nbformat": 4,
 "nbformat_minor": 4
}
